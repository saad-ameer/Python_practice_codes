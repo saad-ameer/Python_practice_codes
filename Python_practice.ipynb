{
  "nbformat": 4,
  "nbformat_minor": 0,
  "metadata": {
    "colab": {
      "provenance": [],
      "authorship_tag": "ABX9TyNODjayv7Qfs5QAA/O+5IjK",
      "include_colab_link": true
    },
    "kernelspec": {
      "name": "python3",
      "display_name": "Python 3"
    },
    "language_info": {
      "name": "python"
    }
  },
  "cells": [
    {
      "cell_type": "markdown",
      "metadata": {
        "id": "view-in-github",
        "colab_type": "text"
      },
      "source": [
        "<a href=\"https://colab.research.google.com/github/saad-ameer/Python_practice_codes/blob/main/Python_practice.ipynb\" target=\"_parent\"><img src=\"https://colab.research.google.com/assets/colab-badge.svg\" alt=\"Open In Colab\"/></a>"
      ]
    },
    {
      "cell_type": "markdown",
      "source": [
        "## Python - Core Notes\n",
        "\n",
        "* Released in 1991 by Guido van Rossum  \n",
        "* Named after Monty Python’s Flying Circus (comedy show)  \n",
        "* Designed to be easy to learn, open-source, and readable like English  \n",
        "* Focuses on reducing developer time, not execution time  \n",
        "\n",
        "* High-level language – human-readable and beginner-friendly  \n",
        "* Interpreted – code runs line-by-line using an interpreter  \n",
        "* Dynamically typed – no need to declare variable types  \n",
        "* Object-oriented – organizes code around data (objects)\n",
        "\n",
        "* Used for web development, automation, data analysis, machine learning, and visualization  \n",
        "\n",
        "* Comes with a standard library – good starting point for beginners  \n",
        "* Popular external libraries:\n",
        "  * NumPy – numerical operations  \n",
        "  * Pandas – data manipulation  \n",
        "  * Seaborn – statistical visualization  \n",
        "  * Matplotlib – general plotting"
      ],
      "metadata": {
        "id": "QNfXUWzOS-J7"
      }
    },
    {
      "cell_type": "markdown",
      "source": [
        "## Python Notes – Objects, Methods & Variables\n",
        "\n",
        "* Python is an object-oriented language; everything in Python is an object.\n",
        "* Objects have associated methods, which are actions specific to their type.\n",
        "* Common object types:\n",
        "  * `int` – integer (e.g., 1)\n",
        "  * `str` – string (e.g., \"Hello\")\n",
        "\n",
        "* Use `type()` to check the type of an object:\n",
        "  * `type(1)` returns `<class 'int'>`\n",
        "  * `type(\"Hello\")` returns `<class 'str'>`\n",
        "\n",
        "* Functions vs Methods:\n",
        "  * **Function**: General-purpose (e.g., `print()`, `type()`)\n",
        "  * **Method**: Belongs to an object, called using dot notation (e.g., `\"hello\".upper()`)\n",
        "\n",
        "* To see available methods on an object, type the object followed by a dot and wait for suggestions.\n",
        "* To run a method, include `()` after it. Without `()`, you're just referencing it.\n",
        "  * `\"hello\".upper()` → `\"HELLO\"`\n",
        "\n",
        "* Use `help()` to get more info:\n",
        "  * `help(str)` → shows all methods for string objects\n",
        "  * `help(str.upper)` → shows what `.upper()` does\n",
        "\n",
        "## Variables in Python\n",
        "\n",
        "* A variable stores a value in memory.\n",
        "* Assign with `=`, e.g., `x = 1`\n",
        "* Variables are dynamically typed – they can change types:\n",
        "  * `x = 1` → integer\n",
        "  * `x = \"Hi\"` → now a string\n",
        "\n",
        "* Use `type(x)` to check variable type.\n",
        "* Variable naming rules:\n",
        "  * Cannot start with a number (e.g., `1x = 2` is invalid)\n",
        "  * No spaces (e.g., `my var = 2` is invalid)\n",
        "  * Use lowercase with underscores for readability (e.g., `my_variable = 10`)\n",
        "\n",
        "* Follow **PEP 8** for Python naming conventions:\n",
        "  * Search: “PEP 8 variable naming conventions”"
      ],
      "metadata": {
        "id": "lu1-QCN6YwLp"
      }
    },
    {
      "cell_type": "code",
      "execution_count": 1,
      "metadata": {
        "colab": {
          "base_uri": "https://localhost:8080/",
          "height": 0
        },
        "id": "abhfLKdlOu6O",
        "outputId": "f08affd0-bab1-49f0-e501-4c20646c17fe"
      },
      "outputs": [
        {
          "output_type": "execute_result",
          "data": {
            "text/plain": [
              "1"
            ]
          },
          "metadata": {},
          "execution_count": 1
        }
      ],
      "source": [
        "1"
      ]
    },
    {
      "cell_type": "code",
      "source": [
        "type(1)"
      ],
      "metadata": {
        "colab": {
          "base_uri": "https://localhost:8080/",
          "height": 0
        },
        "id": "E3Hj8yO3WjRk",
        "outputId": "67546ac6-1c0c-43f7-8d5b-08fe9b9c4fd8"
      },
      "execution_count": 2,
      "outputs": [
        {
          "output_type": "execute_result",
          "data": {
            "text/plain": [
              "int"
            ]
          },
          "metadata": {},
          "execution_count": 2
        }
      ]
    },
    {
      "cell_type": "code",
      "source": [
        "type('hello world')"
      ],
      "metadata": {
        "colab": {
          "base_uri": "https://localhost:8080/",
          "height": 0
        },
        "id": "xx__2k-kWtAj",
        "outputId": "80f1014a-7b87-4d7e-ee30-a4d2bc1ce882"
      },
      "execution_count": 4,
      "outputs": [
        {
          "output_type": "execute_result",
          "data": {
            "text/plain": [
              "str"
            ]
          },
          "metadata": {},
          "execution_count": 4
        }
      ]
    },
    {
      "cell_type": "code",
      "source": [
        "print('hello world')"
      ],
      "metadata": {
        "colab": {
          "base_uri": "https://localhost:8080/",
          "height": 0
        },
        "id": "PCBoU3FDW35d",
        "outputId": "0cf8b607-8413-4ca2-cc70-3944c7ce0182"
      },
      "execution_count": 5,
      "outputs": [
        {
          "output_type": "stream",
          "name": "stdout",
          "text": [
            "hello world\n"
          ]
        }
      ]
    },
    {
      "cell_type": "code",
      "source": [
        "print(1)"
      ],
      "metadata": {
        "colab": {
          "base_uri": "https://localhost:8080/",
          "height": 0
        },
        "id": "T8_HhmkGW7NQ",
        "outputId": "fa9a28be-abe2-4237-f68a-95c28ded0848"
      },
      "execution_count": 6,
      "outputs": [
        {
          "output_type": "stream",
          "name": "stdout",
          "text": [
            "1\n"
          ]
        }
      ]
    },
    {
      "cell_type": "code",
      "source": [
        "'hello'.upper()"
      ],
      "metadata": {
        "colab": {
          "base_uri": "https://localhost:8080/",
          "height": 0
        },
        "id": "3_zod6UTXQpz",
        "outputId": "aff7c33a-0f61-496c-c048-83d6d36ee585"
      },
      "execution_count": 7,
      "outputs": [
        {
          "output_type": "execute_result",
          "data": {
            "text/plain": [
              "'HELLO'"
            ],
            "application/vnd.google.colaboratory.intrinsic+json": {
              "type": "string"
            }
          },
          "metadata": {},
          "execution_count": 7
        }
      ]
    },
    {
      "cell_type": "code",
      "source": [
        "help(str)"
      ],
      "metadata": {
        "colab": {
          "base_uri": "https://localhost:8080/",
          "height": 0
        },
        "id": "hiaGozaAXcQH",
        "outputId": "420b1361-f39a-48cd-8abd-3e2af6144dad"
      },
      "execution_count": 9,
      "outputs": [
        {
          "output_type": "stream",
          "name": "stdout",
          "text": [
            "Help on class str in module builtins:\n",
            "\n",
            "class str(object)\n",
            " |  str(object='') -> str\n",
            " |  str(bytes_or_buffer[, encoding[, errors]]) -> str\n",
            " |  \n",
            " |  Create a new string object from the given object. If encoding or\n",
            " |  errors is specified, then the object must expose a data buffer\n",
            " |  that will be decoded using the given encoding and error handler.\n",
            " |  Otherwise, returns the result of object.__str__() (if defined)\n",
            " |  or repr(object).\n",
            " |  encoding defaults to sys.getdefaultencoding().\n",
            " |  errors defaults to 'strict'.\n",
            " |  \n",
            " |  Methods defined here:\n",
            " |  \n",
            " |  __add__(self, value, /)\n",
            " |      Return self+value.\n",
            " |  \n",
            " |  __contains__(self, key, /)\n",
            " |      Return key in self.\n",
            " |  \n",
            " |  __eq__(self, value, /)\n",
            " |      Return self==value.\n",
            " |  \n",
            " |  __format__(self, format_spec, /)\n",
            " |      Return a formatted version of the string as described by format_spec.\n",
            " |  \n",
            " |  __ge__(self, value, /)\n",
            " |      Return self>=value.\n",
            " |  \n",
            " |  __getattribute__(self, name, /)\n",
            " |      Return getattr(self, name).\n",
            " |  \n",
            " |  __getitem__(self, key, /)\n",
            " |      Return self[key].\n",
            " |  \n",
            " |  __getnewargs__(...)\n",
            " |  \n",
            " |  __gt__(self, value, /)\n",
            " |      Return self>value.\n",
            " |  \n",
            " |  __hash__(self, /)\n",
            " |      Return hash(self).\n",
            " |  \n",
            " |  __iter__(self, /)\n",
            " |      Implement iter(self).\n",
            " |  \n",
            " |  __le__(self, value, /)\n",
            " |      Return self<=value.\n",
            " |  \n",
            " |  __len__(self, /)\n",
            " |      Return len(self).\n",
            " |  \n",
            " |  __lt__(self, value, /)\n",
            " |      Return self<value.\n",
            " |  \n",
            " |  __mod__(self, value, /)\n",
            " |      Return self%value.\n",
            " |  \n",
            " |  __mul__(self, value, /)\n",
            " |      Return self*value.\n",
            " |  \n",
            " |  __ne__(self, value, /)\n",
            " |      Return self!=value.\n",
            " |  \n",
            " |  __repr__(self, /)\n",
            " |      Return repr(self).\n",
            " |  \n",
            " |  __rmod__(self, value, /)\n",
            " |      Return value%self.\n",
            " |  \n",
            " |  __rmul__(self, value, /)\n",
            " |      Return value*self.\n",
            " |  \n",
            " |  __sizeof__(self, /)\n",
            " |      Return the size of the string in memory, in bytes.\n",
            " |  \n",
            " |  __str__(self, /)\n",
            " |      Return str(self).\n",
            " |  \n",
            " |  capitalize(self, /)\n",
            " |      Return a capitalized version of the string.\n",
            " |      \n",
            " |      More specifically, make the first character have upper case and the rest lower\n",
            " |      case.\n",
            " |  \n",
            " |  casefold(self, /)\n",
            " |      Return a version of the string suitable for caseless comparisons.\n",
            " |  \n",
            " |  center(self, width, fillchar=' ', /)\n",
            " |      Return a centered string of length width.\n",
            " |      \n",
            " |      Padding is done using the specified fill character (default is a space).\n",
            " |  \n",
            " |  count(...)\n",
            " |      S.count(sub[, start[, end]]) -> int\n",
            " |      \n",
            " |      Return the number of non-overlapping occurrences of substring sub in\n",
            " |      string S[start:end].  Optional arguments start and end are\n",
            " |      interpreted as in slice notation.\n",
            " |  \n",
            " |  encode(self, /, encoding='utf-8', errors='strict')\n",
            " |      Encode the string using the codec registered for encoding.\n",
            " |      \n",
            " |      encoding\n",
            " |        The encoding in which to encode the string.\n",
            " |      errors\n",
            " |        The error handling scheme to use for encoding errors.\n",
            " |        The default is 'strict' meaning that encoding errors raise a\n",
            " |        UnicodeEncodeError.  Other possible values are 'ignore', 'replace' and\n",
            " |        'xmlcharrefreplace' as well as any other name registered with\n",
            " |        codecs.register_error that can handle UnicodeEncodeErrors.\n",
            " |  \n",
            " |  endswith(...)\n",
            " |      S.endswith(suffix[, start[, end]]) -> bool\n",
            " |      \n",
            " |      Return True if S ends with the specified suffix, False otherwise.\n",
            " |      With optional start, test S beginning at that position.\n",
            " |      With optional end, stop comparing S at that position.\n",
            " |      suffix can also be a tuple of strings to try.\n",
            " |  \n",
            " |  expandtabs(self, /, tabsize=8)\n",
            " |      Return a copy where all tab characters are expanded using spaces.\n",
            " |      \n",
            " |      If tabsize is not given, a tab size of 8 characters is assumed.\n",
            " |  \n",
            " |  find(...)\n",
            " |      S.find(sub[, start[, end]]) -> int\n",
            " |      \n",
            " |      Return the lowest index in S where substring sub is found,\n",
            " |      such that sub is contained within S[start:end].  Optional\n",
            " |      arguments start and end are interpreted as in slice notation.\n",
            " |      \n",
            " |      Return -1 on failure.\n",
            " |  \n",
            " |  format(...)\n",
            " |      S.format(*args, **kwargs) -> str\n",
            " |      \n",
            " |      Return a formatted version of S, using substitutions from args and kwargs.\n",
            " |      The substitutions are identified by braces ('{' and '}').\n",
            " |  \n",
            " |  format_map(...)\n",
            " |      S.format_map(mapping) -> str\n",
            " |      \n",
            " |      Return a formatted version of S, using substitutions from mapping.\n",
            " |      The substitutions are identified by braces ('{' and '}').\n",
            " |  \n",
            " |  index(...)\n",
            " |      S.index(sub[, start[, end]]) -> int\n",
            " |      \n",
            " |      Return the lowest index in S where substring sub is found,\n",
            " |      such that sub is contained within S[start:end].  Optional\n",
            " |      arguments start and end are interpreted as in slice notation.\n",
            " |      \n",
            " |      Raises ValueError when the substring is not found.\n",
            " |  \n",
            " |  isalnum(self, /)\n",
            " |      Return True if the string is an alpha-numeric string, False otherwise.\n",
            " |      \n",
            " |      A string is alpha-numeric if all characters in the string are alpha-numeric and\n",
            " |      there is at least one character in the string.\n",
            " |  \n",
            " |  isalpha(self, /)\n",
            " |      Return True if the string is an alphabetic string, False otherwise.\n",
            " |      \n",
            " |      A string is alphabetic if all characters in the string are alphabetic and there\n",
            " |      is at least one character in the string.\n",
            " |  \n",
            " |  isascii(self, /)\n",
            " |      Return True if all characters in the string are ASCII, False otherwise.\n",
            " |      \n",
            " |      ASCII characters have code points in the range U+0000-U+007F.\n",
            " |      Empty string is ASCII too.\n",
            " |  \n",
            " |  isdecimal(self, /)\n",
            " |      Return True if the string is a decimal string, False otherwise.\n",
            " |      \n",
            " |      A string is a decimal string if all characters in the string are decimal and\n",
            " |      there is at least one character in the string.\n",
            " |  \n",
            " |  isdigit(self, /)\n",
            " |      Return True if the string is a digit string, False otherwise.\n",
            " |      \n",
            " |      A string is a digit string if all characters in the string are digits and there\n",
            " |      is at least one character in the string.\n",
            " |  \n",
            " |  isidentifier(self, /)\n",
            " |      Return True if the string is a valid Python identifier, False otherwise.\n",
            " |      \n",
            " |      Call keyword.iskeyword(s) to test whether string s is a reserved identifier,\n",
            " |      such as \"def\" or \"class\".\n",
            " |  \n",
            " |  islower(self, /)\n",
            " |      Return True if the string is a lowercase string, False otherwise.\n",
            " |      \n",
            " |      A string is lowercase if all cased characters in the string are lowercase and\n",
            " |      there is at least one cased character in the string.\n",
            " |  \n",
            " |  isnumeric(self, /)\n",
            " |      Return True if the string is a numeric string, False otherwise.\n",
            " |      \n",
            " |      A string is numeric if all characters in the string are numeric and there is at\n",
            " |      least one character in the string.\n",
            " |  \n",
            " |  isprintable(self, /)\n",
            " |      Return True if the string is printable, False otherwise.\n",
            " |      \n",
            " |      A string is printable if all of its characters are considered printable in\n",
            " |      repr() or if it is empty.\n",
            " |  \n",
            " |  isspace(self, /)\n",
            " |      Return True if the string is a whitespace string, False otherwise.\n",
            " |      \n",
            " |      A string is whitespace if all characters in the string are whitespace and there\n",
            " |      is at least one character in the string.\n",
            " |  \n",
            " |  istitle(self, /)\n",
            " |      Return True if the string is a title-cased string, False otherwise.\n",
            " |      \n",
            " |      In a title-cased string, upper- and title-case characters may only\n",
            " |      follow uncased characters and lowercase characters only cased ones.\n",
            " |  \n",
            " |  isupper(self, /)\n",
            " |      Return True if the string is an uppercase string, False otherwise.\n",
            " |      \n",
            " |      A string is uppercase if all cased characters in the string are uppercase and\n",
            " |      there is at least one cased character in the string.\n",
            " |  \n",
            " |  join(self, iterable, /)\n",
            " |      Concatenate any number of strings.\n",
            " |      \n",
            " |      The string whose method is called is inserted in between each given string.\n",
            " |      The result is returned as a new string.\n",
            " |      \n",
            " |      Example: '.'.join(['ab', 'pq', 'rs']) -> 'ab.pq.rs'\n",
            " |  \n",
            " |  ljust(self, width, fillchar=' ', /)\n",
            " |      Return a left-justified string of length width.\n",
            " |      \n",
            " |      Padding is done using the specified fill character (default is a space).\n",
            " |  \n",
            " |  lower(self, /)\n",
            " |      Return a copy of the string converted to lowercase.\n",
            " |  \n",
            " |  lstrip(self, chars=None, /)\n",
            " |      Return a copy of the string with leading whitespace removed.\n",
            " |      \n",
            " |      If chars is given and not None, remove characters in chars instead.\n",
            " |  \n",
            " |  partition(self, sep, /)\n",
            " |      Partition the string into three parts using the given separator.\n",
            " |      \n",
            " |      This will search for the separator in the string.  If the separator is found,\n",
            " |      returns a 3-tuple containing the part before the separator, the separator\n",
            " |      itself, and the part after it.\n",
            " |      \n",
            " |      If the separator is not found, returns a 3-tuple containing the original string\n",
            " |      and two empty strings.\n",
            " |  \n",
            " |  removeprefix(self, prefix, /)\n",
            " |      Return a str with the given prefix string removed if present.\n",
            " |      \n",
            " |      If the string starts with the prefix string, return string[len(prefix):].\n",
            " |      Otherwise, return a copy of the original string.\n",
            " |  \n",
            " |  removesuffix(self, suffix, /)\n",
            " |      Return a str with the given suffix string removed if present.\n",
            " |      \n",
            " |      If the string ends with the suffix string and that suffix is not empty,\n",
            " |      return string[:-len(suffix)]. Otherwise, return a copy of the original\n",
            " |      string.\n",
            " |  \n",
            " |  replace(self, old, new, count=-1, /)\n",
            " |      Return a copy with all occurrences of substring old replaced by new.\n",
            " |      \n",
            " |        count\n",
            " |          Maximum number of occurrences to replace.\n",
            " |          -1 (the default value) means replace all occurrences.\n",
            " |      \n",
            " |      If the optional argument count is given, only the first count occurrences are\n",
            " |      replaced.\n",
            " |  \n",
            " |  rfind(...)\n",
            " |      S.rfind(sub[, start[, end]]) -> int\n",
            " |      \n",
            " |      Return the highest index in S where substring sub is found,\n",
            " |      such that sub is contained within S[start:end].  Optional\n",
            " |      arguments start and end are interpreted as in slice notation.\n",
            " |      \n",
            " |      Return -1 on failure.\n",
            " |  \n",
            " |  rindex(...)\n",
            " |      S.rindex(sub[, start[, end]]) -> int\n",
            " |      \n",
            " |      Return the highest index in S where substring sub is found,\n",
            " |      such that sub is contained within S[start:end].  Optional\n",
            " |      arguments start and end are interpreted as in slice notation.\n",
            " |      \n",
            " |      Raises ValueError when the substring is not found.\n",
            " |  \n",
            " |  rjust(self, width, fillchar=' ', /)\n",
            " |      Return a right-justified string of length width.\n",
            " |      \n",
            " |      Padding is done using the specified fill character (default is a space).\n",
            " |  \n",
            " |  rpartition(self, sep, /)\n",
            " |      Partition the string into three parts using the given separator.\n",
            " |      \n",
            " |      This will search for the separator in the string, starting at the end. If\n",
            " |      the separator is found, returns a 3-tuple containing the part before the\n",
            " |      separator, the separator itself, and the part after it.\n",
            " |      \n",
            " |      If the separator is not found, returns a 3-tuple containing two empty strings\n",
            " |      and the original string.\n",
            " |  \n",
            " |  rsplit(self, /, sep=None, maxsplit=-1)\n",
            " |      Return a list of the substrings in the string, using sep as the separator string.\n",
            " |      \n",
            " |        sep\n",
            " |          The separator used to split the string.\n",
            " |      \n",
            " |          When set to None (the default value), will split on any whitespace\n",
            " |          character (including \\n \\r \\t \\f and spaces) and will discard\n",
            " |          empty strings from the result.\n",
            " |        maxsplit\n",
            " |          Maximum number of splits.\n",
            " |          -1 (the default value) means no limit.\n",
            " |      \n",
            " |      Splitting starts at the end of the string and works to the front.\n",
            " |  \n",
            " |  rstrip(self, chars=None, /)\n",
            " |      Return a copy of the string with trailing whitespace removed.\n",
            " |      \n",
            " |      If chars is given and not None, remove characters in chars instead.\n",
            " |  \n",
            " |  split(self, /, sep=None, maxsplit=-1)\n",
            " |      Return a list of the substrings in the string, using sep as the separator string.\n",
            " |      \n",
            " |        sep\n",
            " |          The separator used to split the string.\n",
            " |      \n",
            " |          When set to None (the default value), will split on any whitespace\n",
            " |          character (including \\n \\r \\t \\f and spaces) and will discard\n",
            " |          empty strings from the result.\n",
            " |        maxsplit\n",
            " |          Maximum number of splits.\n",
            " |          -1 (the default value) means no limit.\n",
            " |      \n",
            " |      Splitting starts at the front of the string and works to the end.\n",
            " |      \n",
            " |      Note, str.split() is mainly useful for data that has been intentionally\n",
            " |      delimited.  With natural text that includes punctuation, consider using\n",
            " |      the regular expression module.\n",
            " |  \n",
            " |  splitlines(self, /, keepends=False)\n",
            " |      Return a list of the lines in the string, breaking at line boundaries.\n",
            " |      \n",
            " |      Line breaks are not included in the resulting list unless keepends is given and\n",
            " |      true.\n",
            " |  \n",
            " |  startswith(...)\n",
            " |      S.startswith(prefix[, start[, end]]) -> bool\n",
            " |      \n",
            " |      Return True if S starts with the specified prefix, False otherwise.\n",
            " |      With optional start, test S beginning at that position.\n",
            " |      With optional end, stop comparing S at that position.\n",
            " |      prefix can also be a tuple of strings to try.\n",
            " |  \n",
            " |  strip(self, chars=None, /)\n",
            " |      Return a copy of the string with leading and trailing whitespace removed.\n",
            " |      \n",
            " |      If chars is given and not None, remove characters in chars instead.\n",
            " |  \n",
            " |  swapcase(self, /)\n",
            " |      Convert uppercase characters to lowercase and lowercase characters to uppercase.\n",
            " |  \n",
            " |  title(self, /)\n",
            " |      Return a version of the string where each word is titlecased.\n",
            " |      \n",
            " |      More specifically, words start with uppercased characters and all remaining\n",
            " |      cased characters have lower case.\n",
            " |  \n",
            " |  translate(self, table, /)\n",
            " |      Replace each character in the string using the given translation table.\n",
            " |      \n",
            " |        table\n",
            " |          Translation table, which must be a mapping of Unicode ordinals to\n",
            " |          Unicode ordinals, strings, or None.\n",
            " |      \n",
            " |      The table must implement lookup/indexing via __getitem__, for instance a\n",
            " |      dictionary or list.  If this operation raises LookupError, the character is\n",
            " |      left untouched.  Characters mapped to None are deleted.\n",
            " |  \n",
            " |  upper(self, /)\n",
            " |      Return a copy of the string converted to uppercase.\n",
            " |  \n",
            " |  zfill(self, width, /)\n",
            " |      Pad a numeric string with zeros on the left, to fill a field of the given width.\n",
            " |      \n",
            " |      The string is never truncated.\n",
            " |  \n",
            " |  ----------------------------------------------------------------------\n",
            " |  Static methods defined here:\n",
            " |  \n",
            " |  __new__(*args, **kwargs)\n",
            " |      Create and return a new object.  See help(type) for accurate signature.\n",
            " |  \n",
            " |  maketrans(...)\n",
            " |      Return a translation table usable for str.translate().\n",
            " |      \n",
            " |      If there is only one argument, it must be a dictionary mapping Unicode\n",
            " |      ordinals (integers) or characters to Unicode ordinals, strings or None.\n",
            " |      Character keys will be then converted to ordinals.\n",
            " |      If there are two arguments, they must be strings of equal length, and\n",
            " |      in the resulting dictionary, each character in x will be mapped to the\n",
            " |      character at the same position in y. If there is a third argument, it\n",
            " |      must be a string, whose characters will be mapped to None in the result.\n",
            "\n"
          ]
        }
      ]
    },
    {
      "cell_type": "code",
      "source": [
        "help(str.upper)"
      ],
      "metadata": {
        "colab": {
          "base_uri": "https://localhost:8080/",
          "height": 0
        },
        "id": "LOKiQZ8MXynE",
        "outputId": "3ab537d5-cc33-4bc4-ef97-877f12a70380"
      },
      "execution_count": 11,
      "outputs": [
        {
          "output_type": "stream",
          "name": "stdout",
          "text": [
            "Help on method_descriptor:\n",
            "\n",
            "upper(self, /) unbound builtins.str method\n",
            "    Return a copy of the string converted to uppercase.\n",
            "\n"
          ]
        }
      ]
    },
    {
      "cell_type": "code",
      "source": [
        "x=1"
      ],
      "metadata": {
        "id": "OLTE65uIX5qd"
      },
      "execution_count": 12,
      "outputs": []
    },
    {
      "cell_type": "code",
      "source": [
        "x"
      ],
      "metadata": {
        "colab": {
          "base_uri": "https://localhost:8080/",
          "height": 0
        },
        "id": "Le5M55xMYBgx",
        "outputId": "6a29b9b7-14b6-42b8-942d-4b5a6a7311ba"
      },
      "execution_count": 13,
      "outputs": [
        {
          "output_type": "execute_result",
          "data": {
            "text/plain": [
              "1"
            ]
          },
          "metadata": {},
          "execution_count": 13
        }
      ]
    },
    {
      "cell_type": "code",
      "source": [
        "type(x)"
      ],
      "metadata": {
        "colab": {
          "base_uri": "https://localhost:8080/",
          "height": 0
        },
        "id": "Su89jwTRYDHx",
        "outputId": "d0912637-4d41-487e-fc62-86d1a550ce42"
      },
      "execution_count": 14,
      "outputs": [
        {
          "output_type": "execute_result",
          "data": {
            "text/plain": [
              "int"
            ]
          },
          "metadata": {},
          "execution_count": 14
        }
      ]
    },
    {
      "cell_type": "code",
      "source": [
        "x='hello'"
      ],
      "metadata": {
        "id": "XYwmXHiwYF-9"
      },
      "execution_count": 15,
      "outputs": []
    },
    {
      "cell_type": "code",
      "source": [
        "x"
      ],
      "metadata": {
        "colab": {
          "base_uri": "https://localhost:8080/",
          "height": 0
        },
        "id": "IL-KzChgYKWN",
        "outputId": "2c116489-d7c4-42c7-f108-bad4398a0d59"
      },
      "execution_count": 16,
      "outputs": [
        {
          "output_type": "execute_result",
          "data": {
            "text/plain": [
              "'hello'"
            ],
            "application/vnd.google.colaboratory.intrinsic+json": {
              "type": "string"
            }
          },
          "metadata": {},
          "execution_count": 16
        }
      ]
    },
    {
      "cell_type": "code",
      "source": [
        "type(x)"
      ],
      "metadata": {
        "colab": {
          "base_uri": "https://localhost:8080/",
          "height": 0
        },
        "id": "GtWB5_miYLoL",
        "outputId": "aa61be97-842c-4cce-f913-3da38df5b35c"
      },
      "execution_count": 17,
      "outputs": [
        {
          "output_type": "execute_result",
          "data": {
            "text/plain": [
              "str"
            ]
          },
          "metadata": {},
          "execution_count": 17
        }
      ]
    },
    {
      "cell_type": "markdown",
      "source": [
        "## Python Notes – Numeric Data Types & Operations\n",
        "\n",
        "* Python has three built-in numeric types: `int`, `float`, and `complex`\n",
        "* This section focuses on `int` and `float`\n",
        "\n",
        "* `int`: Whole numbers (positive or negative)\n",
        "  * Example: `3000`, `-3000`\n",
        "  * `type(3000)` → `<class 'int'>`\n",
        "  * `type(-3000)` → `<class 'int'>`\n",
        "\n",
        "* `float`: Numbers with decimals (floating-point numbers)\n",
        "  * Example: `7.3`, `-7.3`, `7/5` → `1.4`\n",
        "  * `type(7.3)` → `<class 'float'>`\n",
        "  * `type(-7.3)` → `<class 'float'>`\n",
        "  * `type(7/5)` → `<class 'float'>`\n",
        "  * Floats are precise up to ~16 decimal digits\n",
        "\n",
        "## Basic Arithmetic Operations\n",
        "\n",
        "* Addition: `7 + 4` → `11`\n",
        "* Variable assignment:\n",
        "  * `x = 7`, `y = 4`, `z = 10`\n",
        "* `x + y + z` → `21`\n",
        "* `z - y` → `6`\n",
        "* `y * 99` → `396`\n",
        "* `z / y` → `2.5`\n",
        "* `z % y` → `2` (Modulo returns remainder)\n",
        "* Exponentiation:\n",
        "  * `10 ** 4` → `10000`\n",
        "  * `pow(10, 4)` → `10000`\n",
        "\n",
        "## Operator Precedence (PEDMAS/BODMAS)\n",
        "\n",
        "* Order: Parentheses → Exponents → Division → Multiplication → Addition → Subtraction\n",
        "* Example:  \n",
        "  `4 ** (7 + 2) * 4 / 2 + 4 - 1`\n",
        "  * `7 + 2` = `9`\n",
        "  * `4 ** 9` = `262144`\n",
        "  * `4 / 2` = `2.0`\n",
        "  * `262144 * 2.0` = `524288.0`\n",
        "  * `524288.0 + 4` = `524292.0`\n",
        "  * `524292.0 - 1` = `524291.0`"
      ],
      "metadata": {
        "id": "tF4Gc3TvZFUu"
      }
    },
    {
      "cell_type": "code",
      "source": [
        "3000"
      ],
      "metadata": {
        "colab": {
          "base_uri": "https://localhost:8080/",
          "height": 0
        },
        "id": "bBKj9pB_ZRHX",
        "outputId": "c06a21ef-2f03-4b01-d1b0-5315b4a07c3d"
      },
      "execution_count": 19,
      "outputs": [
        {
          "output_type": "execute_result",
          "data": {
            "text/plain": [
              "2000"
            ]
          },
          "metadata": {},
          "execution_count": 19
        }
      ]
    },
    {
      "cell_type": "code",
      "source": [
        "type(3000)"
      ],
      "metadata": {
        "colab": {
          "base_uri": "https://localhost:8080/",
          "height": 0
        },
        "id": "RePXUZKUZUg-",
        "outputId": "1f072972-c63b-45a3-a107-a899f72577c5"
      },
      "execution_count": 20,
      "outputs": [
        {
          "output_type": "execute_result",
          "data": {
            "text/plain": [
              "int"
            ]
          },
          "metadata": {},
          "execution_count": 20
        }
      ]
    },
    {
      "cell_type": "code",
      "source": [
        "type(-3000)"
      ],
      "metadata": {
        "colab": {
          "base_uri": "https://localhost:8080/",
          "height": 0
        },
        "id": "sgO8zmGaZXT_",
        "outputId": "4a932483-adf5-425c-bc9e-0a988663b982"
      },
      "execution_count": 21,
      "outputs": [
        {
          "output_type": "execute_result",
          "data": {
            "text/plain": [
              "int"
            ]
          },
          "metadata": {},
          "execution_count": 21
        }
      ]
    },
    {
      "cell_type": "code",
      "source": [
        "type(7.3)"
      ],
      "metadata": {
        "colab": {
          "base_uri": "https://localhost:8080/",
          "height": 0
        },
        "id": "yTR8iLhfZc9A",
        "outputId": "1f8b52e2-3829-4d28-8c12-168978c52689"
      },
      "execution_count": 22,
      "outputs": [
        {
          "output_type": "execute_result",
          "data": {
            "text/plain": [
              "float"
            ]
          },
          "metadata": {},
          "execution_count": 22
        }
      ]
    },
    {
      "cell_type": "code",
      "source": [
        "type(-7.3)"
      ],
      "metadata": {
        "colab": {
          "base_uri": "https://localhost:8080/",
          "height": 0
        },
        "id": "6OeHxRCBZdln",
        "outputId": "6376a686-7733-4144-89f8-b95ce6ae18a3"
      },
      "execution_count": 23,
      "outputs": [
        {
          "output_type": "execute_result",
          "data": {
            "text/plain": [
              "float"
            ]
          },
          "metadata": {},
          "execution_count": 23
        }
      ]
    },
    {
      "cell_type": "code",
      "source": [
        "7/5"
      ],
      "metadata": {
        "colab": {
          "base_uri": "https://localhost:8080/",
          "height": 0
        },
        "id": "sROpjurfZd-T",
        "outputId": "a2333674-ec2a-445f-eedf-479535ff5a6e"
      },
      "execution_count": 26,
      "outputs": [
        {
          "output_type": "execute_result",
          "data": {
            "text/plain": [
              "1.4"
            ]
          },
          "metadata": {},
          "execution_count": 26
        }
      ]
    },
    {
      "cell_type": "code",
      "source": [
        "type(7/5)"
      ],
      "metadata": {
        "colab": {
          "base_uri": "https://localhost:8080/",
          "height": 0
        },
        "id": "dvdCqxOBZeLX",
        "outputId": "36876264-a351-4f94-8b8e-3b1b2882739a"
      },
      "execution_count": 27,
      "outputs": [
        {
          "output_type": "execute_result",
          "data": {
            "text/plain": [
              "float"
            ]
          },
          "metadata": {},
          "execution_count": 27
        }
      ]
    },
    {
      "cell_type": "code",
      "source": [
        "7+4"
      ],
      "metadata": {
        "colab": {
          "base_uri": "https://localhost:8080/",
          "height": 0
        },
        "id": "oUunJAzgZera",
        "outputId": "27d2d417-3c0c-49b4-98f6-94da66f9ba10"
      },
      "execution_count": 30,
      "outputs": [
        {
          "output_type": "execute_result",
          "data": {
            "text/plain": [
              "11"
            ]
          },
          "metadata": {},
          "execution_count": 30
        }
      ]
    },
    {
      "cell_type": "code",
      "source": [
        "x=7\n",
        "y=4\n",
        "z=10"
      ],
      "metadata": {
        "id": "q4NgMsbPaN-w"
      },
      "execution_count": 31,
      "outputs": []
    },
    {
      "cell_type": "code",
      "source": [
        "x+y+z"
      ],
      "metadata": {
        "colab": {
          "base_uri": "https://localhost:8080/",
          "height": 0
        },
        "id": "i2NLTORjaTTT",
        "outputId": "e1543022-1d13-471d-e13e-f9a393be006d"
      },
      "execution_count": 32,
      "outputs": [
        {
          "output_type": "execute_result",
          "data": {
            "text/plain": [
              "21"
            ]
          },
          "metadata": {},
          "execution_count": 32
        }
      ]
    },
    {
      "cell_type": "code",
      "source": [
        "z-y"
      ],
      "metadata": {
        "colab": {
          "base_uri": "https://localhost:8080/",
          "height": 0
        },
        "id": "NZDWtvrCaWxY",
        "outputId": "9191c90b-490b-4ab5-ce9f-83e91b0cc0e9"
      },
      "execution_count": 34,
      "outputs": [
        {
          "output_type": "execute_result",
          "data": {
            "text/plain": [
              "6"
            ]
          },
          "metadata": {},
          "execution_count": 34
        }
      ]
    },
    {
      "cell_type": "code",
      "source": [
        "y*99"
      ],
      "metadata": {
        "colab": {
          "base_uri": "https://localhost:8080/",
          "height": 0
        },
        "id": "DNzb70-vaZ3L",
        "outputId": "678df4a8-a38e-48eb-b0b3-c55fc467409f"
      },
      "execution_count": 36,
      "outputs": [
        {
          "output_type": "execute_result",
          "data": {
            "text/plain": [
              "396"
            ]
          },
          "metadata": {},
          "execution_count": 36
        }
      ]
    },
    {
      "cell_type": "code",
      "source": [
        "z/y"
      ],
      "metadata": {
        "colab": {
          "base_uri": "https://localhost:8080/",
          "height": 0
        },
        "id": "9unzaAuTahD8",
        "outputId": "63038f71-f7c5-4822-ff58-86d4b8199fc1"
      },
      "execution_count": 37,
      "outputs": [
        {
          "output_type": "execute_result",
          "data": {
            "text/plain": [
              "2.5"
            ]
          },
          "metadata": {},
          "execution_count": 37
        }
      ]
    },
    {
      "cell_type": "code",
      "source": [
        "z%y #Modulo"
      ],
      "metadata": {
        "colab": {
          "base_uri": "https://localhost:8080/",
          "height": 0
        },
        "id": "ADwKc2ykat4p",
        "outputId": "e83c3127-15cc-4bda-a2e3-72b17b748058"
      },
      "execution_count": 38,
      "outputs": [
        {
          "output_type": "execute_result",
          "data": {
            "text/plain": [
              "2"
            ]
          },
          "metadata": {},
          "execution_count": 38
        }
      ]
    },
    {
      "cell_type": "code",
      "source": [
        "10**4"
      ],
      "metadata": {
        "colab": {
          "base_uri": "https://localhost:8080/",
          "height": 0
        },
        "id": "kxSJ58M1a4ii",
        "outputId": "15a2152d-39c2-4e32-e9ee-60a4e352808d"
      },
      "execution_count": 39,
      "outputs": [
        {
          "output_type": "execute_result",
          "data": {
            "text/plain": [
              "10000"
            ]
          },
          "metadata": {},
          "execution_count": 39
        }
      ]
    },
    {
      "cell_type": "code",
      "source": [
        "pow(10,4)"
      ],
      "metadata": {
        "colab": {
          "base_uri": "https://localhost:8080/",
          "height": 0
        },
        "id": "svqmMavZa_YG",
        "outputId": "1daf7ce0-e391-458e-a98a-7c74dd198bdb"
      },
      "execution_count": 41,
      "outputs": [
        {
          "output_type": "execute_result",
          "data": {
            "text/plain": [
              "10000"
            ]
          },
          "metadata": {},
          "execution_count": 41
        }
      ]
    },
    {
      "cell_type": "code",
      "source": [
        "4**(7+2)*4/2+4-1"
      ],
      "metadata": {
        "colab": {
          "base_uri": "https://localhost:8080/",
          "height": 0
        },
        "id": "PLUyCQHJbMNd",
        "outputId": "9a0d239e-8434-4664-bcdf-b11d71eba2e6"
      },
      "execution_count": 47,
      "outputs": [
        {
          "output_type": "execute_result",
          "data": {
            "text/plain": [
              "524291.0"
            ]
          },
          "metadata": {},
          "execution_count": 47
        }
      ]
    },
    {
      "cell_type": "code",
      "source": [
        "7+2"
      ],
      "metadata": {
        "colab": {
          "base_uri": "https://localhost:8080/",
          "height": 0
        },
        "id": "dG3zxOmLbkTM",
        "outputId": "d566fcf0-053a-4024-9c84-6f237154b488"
      },
      "execution_count": 48,
      "outputs": [
        {
          "output_type": "execute_result",
          "data": {
            "text/plain": [
              "9"
            ]
          },
          "metadata": {},
          "execution_count": 48
        }
      ]
    },
    {
      "cell_type": "code",
      "source": [
        "4**9"
      ],
      "metadata": {
        "colab": {
          "base_uri": "https://localhost:8080/",
          "height": 0
        },
        "id": "KtjO4FrzbxlM",
        "outputId": "328d9a58-2f3b-40ff-c947-dc5def8342dc"
      },
      "execution_count": 49,
      "outputs": [
        {
          "output_type": "execute_result",
          "data": {
            "text/plain": [
              "262144"
            ]
          },
          "metadata": {},
          "execution_count": 49
        }
      ]
    },
    {
      "cell_type": "code",
      "source": [
        "4/2"
      ],
      "metadata": {
        "colab": {
          "base_uri": "https://localhost:8080/",
          "height": 0
        },
        "id": "dz6CB23cb5qV",
        "outputId": "48657201-a170-4506-f989-0d40d4b81686"
      },
      "execution_count": 50,
      "outputs": [
        {
          "output_type": "execute_result",
          "data": {
            "text/plain": [
              "2.0"
            ]
          },
          "metadata": {},
          "execution_count": 50
        }
      ]
    },
    {
      "cell_type": "code",
      "source": [
        "262144*2.0"
      ],
      "metadata": {
        "colab": {
          "base_uri": "https://localhost:8080/",
          "height": 0
        },
        "id": "aXxvGGpFb8Yc",
        "outputId": "2481ad73-830d-4915-a0ec-ceeb8b639090"
      },
      "execution_count": 51,
      "outputs": [
        {
          "output_type": "execute_result",
          "data": {
            "text/plain": [
              "524288.0"
            ]
          },
          "metadata": {},
          "execution_count": 51
        }
      ]
    },
    {
      "cell_type": "code",
      "source": [
        "524288.0+4"
      ],
      "metadata": {
        "colab": {
          "base_uri": "https://localhost:8080/",
          "height": 0
        },
        "id": "WLVHXKMZcerP",
        "outputId": "060dfa7e-9421-4712-9672-adb00ed44a57"
      },
      "execution_count": 52,
      "outputs": [
        {
          "output_type": "execute_result",
          "data": {
            "text/plain": [
              "524292.0"
            ]
          },
          "metadata": {},
          "execution_count": 52
        }
      ]
    },
    {
      "cell_type": "code",
      "source": [
        "524292.0-1"
      ],
      "metadata": {
        "colab": {
          "base_uri": "https://localhost:8080/",
          "height": 0
        },
        "id": "uXE7MnMVcjvQ",
        "outputId": "43496294-b9ff-4cff-ddea-9023b1e7c755"
      },
      "execution_count": 53,
      "outputs": [
        {
          "output_type": "execute_result",
          "data": {
            "text/plain": [
              "524291.0"
            ]
          },
          "metadata": {},
          "execution_count": 53
        }
      ]
    },
    {
      "cell_type": "markdown",
      "source": [
        "## Python Notes – Strings & Escape Sequences\n",
        "\n",
        "* Strings are immutable sequences of characters.\n",
        "* Strings can be enclosed in:\n",
        "  * Single quotes: 'Hello'\n",
        "  * Double quotes: \"Hello\"\n",
        "  * Triple quotes: '''Hello''' or \"\"\"Hello\"\"\"\n",
        "\n",
        "* Example:\n",
        "  * type('2') returns <class 'str'>\n",
        "  * type(2) returns <class 'int'>\n",
        "\n",
        "## Why Different String Quotes?\n",
        "\n",
        "* Single quote inside single quotes causes error:\n",
        "  * 'Don't do this' → Error\n",
        "  * \"Don't do this\" → Works\n",
        "\n",
        "* Double quote inside double quotes causes error:\n",
        "  * \"He said \"Hello\"\" → Error\n",
        "  * 'He said \"Hello\"' → Works\n",
        "\n",
        "* If string contains both single and double quotes:\n",
        "  * Use triple quotes: '''He said \"Don't do this\"''' → Works\n",
        "\n",
        "## Escape Characters\n",
        "\n",
        "* Backslash \\ is used to escape special characters.\n",
        "* Common escape sequences:\n",
        "  * \\' – Single quote\n",
        "    * Example: 'Don\\'t' → Don't\n",
        "  * \\\\ – Backslash\n",
        "    * Example: 'Path\\\\to\\\\file' → Path\\to\\file\n",
        "  * \\n – New line\n",
        "    * print(\"Hello\\nWorld\") → prints on two lines\n",
        "  * \\r – Carriage return\n",
        "    * Moves cursor to the beginning of the line\n",
        "  * \\t – Tab space\n",
        "    * print(\"A\\tB\") → A    B (with tab space)\n",
        "  * \\b – Backspace\n",
        "    * Removes one character before it\n",
        "\n",
        "* Avoid putting a space after escape sequences to prevent unwanted whitespace.\n",
        "* Refer to Python documentation for more escape sequences."
      ],
      "metadata": {
        "id": "Knz9jue5dtMX"
      }
    },
    {
      "cell_type": "code",
      "source": [
        "'This is a string'"
      ],
      "metadata": {
        "colab": {
          "base_uri": "https://localhost:8080/",
          "height": 0
        },
        "id": "xwJ1wp9ieLpW",
        "outputId": "785de005-cd39-4046-9007-dba9b9078d72"
      },
      "execution_count": 54,
      "outputs": [
        {
          "output_type": "execute_result",
          "data": {
            "text/plain": [
              "'This is a string'"
            ],
            "application/vnd.google.colaboratory.intrinsic+json": {
              "type": "string"
            }
          },
          "metadata": {},
          "execution_count": 54
        }
      ]
    },
    {
      "cell_type": "code",
      "source": [
        "type('This is a string')"
      ],
      "metadata": {
        "colab": {
          "base_uri": "https://localhost:8080/",
          "height": 0
        },
        "id": "Xl3wxrtteXnn",
        "outputId": "6b8dad39-c7d0-45fe-871b-45839c6db2d5"
      },
      "execution_count": 55,
      "outputs": [
        {
          "output_type": "execute_result",
          "data": {
            "text/plain": [
              "str"
            ]
          },
          "metadata": {},
          "execution_count": 55
        }
      ]
    },
    {
      "cell_type": "code",
      "source": [
        "type(\"This is a string\")"
      ],
      "metadata": {
        "colab": {
          "base_uri": "https://localhost:8080/",
          "height": 0
        },
        "id": "ufqZj-1Seaix",
        "outputId": "0a1e5260-eebf-49b3-e170-8f917c3c5857"
      },
      "execution_count": 56,
      "outputs": [
        {
          "output_type": "execute_result",
          "data": {
            "text/plain": [
              "str"
            ]
          },
          "metadata": {},
          "execution_count": 56
        }
      ]
    },
    {
      "cell_type": "code",
      "source": [
        "type(\"\"\"This is a string\"\"\")"
      ],
      "metadata": {
        "colab": {
          "base_uri": "https://localhost:8080/",
          "height": 0
        },
        "id": "m3b6A62pegip",
        "outputId": "c62bf3e7-da0e-4d48-bae8-4e7a6df52d4c"
      },
      "execution_count": 57,
      "outputs": [
        {
          "output_type": "execute_result",
          "data": {
            "text/plain": [
              "str"
            ]
          },
          "metadata": {},
          "execution_count": 57
        }
      ]
    },
    {
      "cell_type": "code",
      "source": [
        "type('''This is a string''')"
      ],
      "metadata": {
        "colab": {
          "base_uri": "https://localhost:8080/",
          "height": 0
        },
        "id": "02Zj3mywekMg",
        "outputId": "10718417-b82b-488f-dd8f-6fd7923894ff"
      },
      "execution_count": 58,
      "outputs": [
        {
          "output_type": "execute_result",
          "data": {
            "text/plain": [
              "str"
            ]
          },
          "metadata": {},
          "execution_count": 58
        }
      ]
    },
    {
      "cell_type": "code",
      "source": [
        "type(3)"
      ],
      "metadata": {
        "colab": {
          "base_uri": "https://localhost:8080/",
          "height": 0
        },
        "id": "E05uYPEveoFZ",
        "outputId": "05264609-beba-44d3-c919-f37f4b5ffc71"
      },
      "execution_count": 59,
      "outputs": [
        {
          "output_type": "execute_result",
          "data": {
            "text/plain": [
              "int"
            ]
          },
          "metadata": {},
          "execution_count": 59
        }
      ]
    },
    {
      "cell_type": "code",
      "source": [
        "type('7')"
      ],
      "metadata": {
        "colab": {
          "base_uri": "https://localhost:8080/",
          "height": 0
        },
        "id": "7E1PKTbheu9K",
        "outputId": "4c9c653f-f99e-4dfe-8cc2-e1f985fa70fa"
      },
      "execution_count": 60,
      "outputs": [
        {
          "output_type": "execute_result",
          "data": {
            "text/plain": [
              "str"
            ]
          },
          "metadata": {},
          "execution_count": 60
        }
      ]
    },
    {
      "cell_type": "code",
      "source": [
        "'I don't think this will work'"
      ],
      "metadata": {
        "colab": {
          "base_uri": "https://localhost:8080/",
          "height": 0
        },
        "id": "Yg0mazpJeyrL",
        "outputId": "52b81050-77c9-4117-d76c-cc56f627eac2"
      },
      "execution_count": 61,
      "outputs": [
        {
          "output_type": "error",
          "ename": "SyntaxError",
          "evalue": "unterminated string literal (detected at line 1) (ipython-input-61-2827259016.py, line 1)",
          "traceback": [
            "\u001b[0;36m  File \u001b[0;32m\"/tmp/ipython-input-61-2827259016.py\"\u001b[0;36m, line \u001b[0;32m1\u001b[0m\n\u001b[0;31m    'I don't think this will work'\u001b[0m\n\u001b[0m                                 ^\u001b[0m\n\u001b[0;31mSyntaxError\u001b[0m\u001b[0;31m:\u001b[0m unterminated string literal (detected at line 1)\n"
          ]
        }
      ]
    },
    {
      "cell_type": "code",
      "source": [
        "\"I don't think this will work. But this will work\""
      ],
      "metadata": {
        "colab": {
          "base_uri": "https://localhost:8080/",
          "height": 0
        },
        "id": "q-cUKDLBe6A1",
        "outputId": "77c80e9e-ca45-45ad-b482-f18f99944ee1"
      },
      "execution_count": 62,
      "outputs": [
        {
          "output_type": "execute_result",
          "data": {
            "text/plain": [
              "\"I don't think this will work. But this will work\""
            ],
            "application/vnd.google.colaboratory.intrinsic+json": {
              "type": "string"
            }
          },
          "metadata": {},
          "execution_count": 62
        }
      ]
    },
    {
      "cell_type": "code",
      "source": [
        "'The student said \"It is fun to learn Python\"'"
      ],
      "metadata": {
        "colab": {
          "base_uri": "https://localhost:8080/",
          "height": 0
        },
        "id": "zBBfEkdofN6V",
        "outputId": "e6d07f11-2e72-49cd-8fb2-3777ab67c969"
      },
      "execution_count": 63,
      "outputs": [
        {
          "output_type": "execute_result",
          "data": {
            "text/plain": [
              "'The student said \"It is fun to learn Python\"'"
            ],
            "application/vnd.google.colaboratory.intrinsic+json": {
              "type": "string"
            }
          },
          "metadata": {},
          "execution_count": 63
        }
      ]
    },
    {
      "cell_type": "code",
      "source": [
        "'''The student said \"It's fun to learn Python\"'''"
      ],
      "metadata": {
        "colab": {
          "base_uri": "https://localhost:8080/",
          "height": 0
        },
        "id": "tw2V9YZkf6_s",
        "outputId": "38cff448-dbd5-4606-e6d4-ee1a693014cd"
      },
      "execution_count": 64,
      "outputs": [
        {
          "output_type": "execute_result",
          "data": {
            "text/plain": [
              "'The student said \"It\\'s fun to learn Python\"'"
            ],
            "application/vnd.google.colaboratory.intrinsic+json": {
              "type": "string"
            }
          },
          "metadata": {},
          "execution_count": 64
        }
      ]
    },
    {
      "cell_type": "code",
      "source": [
        "'this isn\\'t what I expected'"
      ],
      "metadata": {
        "colab": {
          "base_uri": "https://localhost:8080/",
          "height": 0
        },
        "id": "UzMg5O-MgJK4",
        "outputId": "47cab73b-1dbb-4921-a29d-6e0d0c9c6410"
      },
      "execution_count": 65,
      "outputs": [
        {
          "output_type": "execute_result",
          "data": {
            "text/plain": [
              "\"this isn't what I expected\""
            ],
            "application/vnd.google.colaboratory.intrinsic+json": {
              "type": "string"
            }
          },
          "metadata": {},
          "execution_count": 65
        }
      ]
    },
    {
      "cell_type": "code",
      "source": [
        "print('hello I would like this \\nstring in two lines.')"
      ],
      "metadata": {
        "colab": {
          "base_uri": "https://localhost:8080/",
          "height": 0
        },
        "id": "4X1-vtG1gQEG",
        "outputId": "a0e21221-b06d-4298-b97e-23bd38732fd4"
      },
      "execution_count": 66,
      "outputs": [
        {
          "output_type": "stream",
          "name": "stdout",
          "text": [
            "hello I would like this \n",
            "string in two lines.\n"
          ]
        }
      ]
    },
    {
      "cell_type": "code",
      "source": [
        "print('hello I would like this \\tstring in two lines.')"
      ],
      "metadata": {
        "colab": {
          "base_uri": "https://localhost:8080/",
          "height": 0
        },
        "id": "AdMZ5iFdgt-q",
        "outputId": "d868f01d-8428-4af8-c57e-6418b24414ad"
      },
      "execution_count": 67,
      "outputs": [
        {
          "output_type": "stream",
          "name": "stdout",
          "text": [
            "hello I would like this \tstring in two lines.\n"
          ]
        }
      ]
    },
    {
      "cell_type": "markdown",
      "source": [
        "## Python Notes – String Indexing & Slicing\n",
        "\n",
        "* Strings are sequences of characters, and each character has an index.\n",
        "* Indexing starts from 0 (left to right) and -1 (right to left).\n",
        "  * Example: `x = \"This is a string\"`\n",
        "\n",
        "## String Indexing\n",
        "\n",
        "* Use square brackets to access a character at a specific index:\n",
        "  * `x[3]` → returns `'s'` (0:T, 1:h, 2:i, 3:s)\n",
        "  * `x[-1]` → returns `'g'` (last character)\n",
        "\n",
        "## String Slicing\n",
        "\n",
        "* Syntax: `x[start : stop : step]`\n",
        "  * `start`: Starting index (inclusive)\n",
        "  * `stop`: Ending index (exclusive)\n",
        "  * `step`: Number of steps to skip (default is 1)\n",
        "\n",
        "* Examples:\n",
        "  * `x[0:4]` → `'This'` (includes index 0 to 3)\n",
        "  * `x[:4]` → `'This'` (start defaults to 0)\n",
        "  * `x[3:]` → `'s is a string'` (up to end)\n",
        "  * `x[5:7]` → `'is'`\n",
        "  * `x[::2]` → skips every other character → `'Ti sasrn'`\n",
        "  * `x[::-1]` → reverses the string → `'gnirts a si sihT'`\n",
        "\n",
        "* Indexing vs Slicing:\n",
        "  * `x[3]` returns a single character\n",
        "  * `x[3:]` returns a substring\n",
        "\n",
        "* Negative Indexing:\n",
        "  * `x[-1]` → last character\n",
        "  * `x[-2]` → second last character\n",
        "\n",
        "* Negative Step:\n",
        "  * `x[::-1]` → reverses the string"
      ],
      "metadata": {
        "id": "ZGBFPYHlhzCR"
      }
    },
    {
      "cell_type": "code",
      "source": [
        "x = 'This is a string'"
      ],
      "metadata": {
        "id": "QhPXEO4iiGmW"
      },
      "execution_count": 68,
      "outputs": []
    },
    {
      "cell_type": "code",
      "source": [
        "x"
      ],
      "metadata": {
        "colab": {
          "base_uri": "https://localhost:8080/",
          "height": 0
        },
        "id": "jp0Gy14Ai-n1",
        "outputId": "77c8db19-a997-4d67-fc64-521506089aee"
      },
      "execution_count": 69,
      "outputs": [
        {
          "output_type": "execute_result",
          "data": {
            "text/plain": [
              "'This is a string'"
            ],
            "application/vnd.google.colaboratory.intrinsic+json": {
              "type": "string"
            }
          },
          "metadata": {},
          "execution_count": 69
        }
      ]
    },
    {
      "cell_type": "code",
      "source": [
        "x[8]"
      ],
      "metadata": {
        "colab": {
          "base_uri": "https://localhost:8080/",
          "height": 0
        },
        "id": "sEMlLCiSi_PY",
        "outputId": "26c88e57-5184-4b5e-d972-30e07b6924a4"
      },
      "execution_count": 72,
      "outputs": [
        {
          "output_type": "execute_result",
          "data": {
            "text/plain": [
              "'a'"
            ],
            "application/vnd.google.colaboratory.intrinsic+json": {
              "type": "string"
            }
          },
          "metadata": {},
          "execution_count": 72
        }
      ]
    },
    {
      "cell_type": "code",
      "source": [
        "x[0:4:1]"
      ],
      "metadata": {
        "colab": {
          "base_uri": "https://localhost:8080/",
          "height": 0
        },
        "id": "AbrBUmSLjXde",
        "outputId": "7188a29d-0ebb-49d0-df35-c38e922fc226"
      },
      "execution_count": 76,
      "outputs": [
        {
          "output_type": "execute_result",
          "data": {
            "text/plain": [
              "'This'"
            ],
            "application/vnd.google.colaboratory.intrinsic+json": {
              "type": "string"
            }
          },
          "metadata": {},
          "execution_count": 76
        }
      ]
    },
    {
      "cell_type": "code",
      "source": [
        "x[0:4]"
      ],
      "metadata": {
        "colab": {
          "base_uri": "https://localhost:8080/",
          "height": 0
        },
        "id": "MOTbFb3ej1RN",
        "outputId": "47d15bde-c2bc-48e8-ae02-f6491376243f"
      },
      "execution_count": 77,
      "outputs": [
        {
          "output_type": "execute_result",
          "data": {
            "text/plain": [
              "'This'"
            ],
            "application/vnd.google.colaboratory.intrinsic+json": {
              "type": "string"
            }
          },
          "metadata": {},
          "execution_count": 77
        }
      ]
    },
    {
      "cell_type": "code",
      "source": [
        "x[:4]"
      ],
      "metadata": {
        "colab": {
          "base_uri": "https://localhost:8080/",
          "height": 0
        },
        "id": "xwemKzEUj9bi",
        "outputId": "f2b6959e-384e-4e7a-b96e-8571d30e2ddc"
      },
      "execution_count": 78,
      "outputs": [
        {
          "output_type": "execute_result",
          "data": {
            "text/plain": [
              "'This'"
            ],
            "application/vnd.google.colaboratory.intrinsic+json": {
              "type": "string"
            }
          },
          "metadata": {},
          "execution_count": 78
        }
      ]
    },
    {
      "cell_type": "code",
      "source": [
        "x[:4:1]"
      ],
      "metadata": {
        "colab": {
          "base_uri": "https://localhost:8080/",
          "height": 0
        },
        "id": "PitNGL0KkAPW",
        "outputId": "c17f7809-810e-41f0-b7b7-f6bfb6f50a9e"
      },
      "execution_count": 79,
      "outputs": [
        {
          "output_type": "execute_result",
          "data": {
            "text/plain": [
              "'This'"
            ],
            "application/vnd.google.colaboratory.intrinsic+json": {
              "type": "string"
            }
          },
          "metadata": {},
          "execution_count": 79
        }
      ]
    },
    {
      "cell_type": "code",
      "source": [
        "x[8::]"
      ],
      "metadata": {
        "colab": {
          "base_uri": "https://localhost:8080/",
          "height": 0
        },
        "id": "9n4IJT1akCet",
        "outputId": "dd3991a8-6792-4484-f750-667b8f9baa3a"
      },
      "execution_count": 81,
      "outputs": [
        {
          "output_type": "execute_result",
          "data": {
            "text/plain": [
              "'a string'"
            ],
            "application/vnd.google.colaboratory.intrinsic+json": {
              "type": "string"
            }
          },
          "metadata": {},
          "execution_count": 81
        }
      ]
    },
    {
      "cell_type": "code",
      "source": [
        "x[8]"
      ],
      "metadata": {
        "colab": {
          "base_uri": "https://localhost:8080/",
          "height": 0
        },
        "id": "4xZx_SR4kJvI",
        "outputId": "e533c05a-0fc8-462d-9395-0d2804eb9bc4"
      },
      "execution_count": 82,
      "outputs": [
        {
          "output_type": "execute_result",
          "data": {
            "text/plain": [
              "'a'"
            ],
            "application/vnd.google.colaboratory.intrinsic+json": {
              "type": "string"
            }
          },
          "metadata": {},
          "execution_count": 82
        }
      ]
    },
    {
      "cell_type": "code",
      "source": [
        "x"
      ],
      "metadata": {
        "colab": {
          "base_uri": "https://localhost:8080/",
          "height": 0
        },
        "id": "JFk9mP-BkMyB",
        "outputId": "afed537b-c44a-436b-d027-b60cfa894948"
      },
      "execution_count": 83,
      "outputs": [
        {
          "output_type": "execute_result",
          "data": {
            "text/plain": [
              "'This is a string'"
            ],
            "application/vnd.google.colaboratory.intrinsic+json": {
              "type": "string"
            }
          },
          "metadata": {},
          "execution_count": 83
        }
      ]
    },
    {
      "cell_type": "code",
      "source": [
        "x[5:7]"
      ],
      "metadata": {
        "colab": {
          "base_uri": "https://localhost:8080/",
          "height": 0
        },
        "id": "VHuWxKc-kPGd",
        "outputId": "559e22d4-b17c-4291-b2ee-2d7c28339526"
      },
      "execution_count": 84,
      "outputs": [
        {
          "output_type": "execute_result",
          "data": {
            "text/plain": [
              "'is'"
            ],
            "application/vnd.google.colaboratory.intrinsic+json": {
              "type": "string"
            }
          },
          "metadata": {},
          "execution_count": 84
        }
      ]
    },
    {
      "cell_type": "code",
      "source": [
        "x[::2]"
      ],
      "metadata": {
        "colab": {
          "base_uri": "https://localhost:8080/",
          "height": 0
        },
        "id": "g83XDmYfkVhn",
        "outputId": "d2fd7dc2-9be0-4d86-8010-20d5dda9a788"
      },
      "execution_count": 85,
      "outputs": [
        {
          "output_type": "execute_result",
          "data": {
            "text/plain": [
              "'Ti sasrn'"
            ],
            "application/vnd.google.colaboratory.intrinsic+json": {
              "type": "string"
            }
          },
          "metadata": {},
          "execution_count": 85
        }
      ]
    },
    {
      "cell_type": "code",
      "source": [
        "x[-1]"
      ],
      "metadata": {
        "colab": {
          "base_uri": "https://localhost:8080/",
          "height": 0
        },
        "id": "lDJfRbkxkicU",
        "outputId": "4bdc9489-86c6-46d3-b51a-8c5436432b24"
      },
      "execution_count": 86,
      "outputs": [
        {
          "output_type": "execute_result",
          "data": {
            "text/plain": [
              "'g'"
            ],
            "application/vnd.google.colaboratory.intrinsic+json": {
              "type": "string"
            }
          },
          "metadata": {},
          "execution_count": 86
        }
      ]
    },
    {
      "cell_type": "code",
      "source": [
        "x[::-1] #reversed"
      ],
      "metadata": {
        "colab": {
          "base_uri": "https://localhost:8080/",
          "height": 0
        },
        "id": "rINMgnDvkkmz",
        "outputId": "7709cecd-9686-4be0-9052-1835f2fdd978"
      },
      "execution_count": 88,
      "outputs": [
        {
          "output_type": "execute_result",
          "data": {
            "text/plain": [
              "'gnirts a si sihT'"
            ],
            "application/vnd.google.colaboratory.intrinsic+json": {
              "type": "string"
            }
          },
          "metadata": {},
          "execution_count": 88
        }
      ]
    },
    {
      "cell_type": "markdown",
      "source": [
        "## Python Notes – String Methods & Immutability\n",
        "\n",
        "* Strings have many built-in methods (accessed via dot notation).\n",
        "* Methods do not change the original string unless explicitly reassigned.\n",
        "\n",
        "## Common String Methods\n",
        "\n",
        "* `.upper()` – Converts string to uppercase  \n",
        "  * Example: `x.upper()`  \n",
        "  * Reassign to apply: `x = x.upper()`\n",
        "\n",
        "* `.lower()` – Converts string to lowercase  \n",
        "  * Example: `x.lower()`  \n",
        "  * Reassign to apply: `x = x.lower()`\n",
        "\n",
        "* `.find(substring, start, end)` – Returns index of first match  \n",
        "  * Returns -1 if not found  \n",
        "  * Case-sensitive  \n",
        "  * Example:\n",
        "    * `y = \"Red Flag\"`\n",
        "    * `y.find(\"Red\")` → `0`\n",
        "    * `y.find(\"red\")` → `-1`\n",
        "\n",
        "* `.replace(old, new, count)` – Replaces text  \n",
        "  * Replaces all occurrences if `count` not provided  \n",
        "  * Example:\n",
        "    * `y.replace(\"Red\", \"Green\")` → `\"Green Flag\"`\n",
        "    * `y = y.replace(\"Red\", \"Green\")` to apply change\n",
        "\n",
        "* `.split(separator)` – Splits string into a list  \n",
        "  * Default is whitespace  \n",
        "  * Example:\n",
        "    * `x = \"This is a string\"`\n",
        "    * `x.split()` → `['This', 'is', 'a', 'string']`\n",
        "    * `x.split(\",\")` → Splits by comma, if present\n",
        "\n",
        "## String Immutability\n",
        "\n",
        "* Strings are **immutable** – you cannot change individual characters.\n",
        "  * Example:\n",
        "    * `a = \"Hello\"`\n",
        "    * `a[0] = \"Y\"` → Error (not allowed)\n",
        "\n",
        "* You can **reassign** the entire string:\n",
        "  * `a = \"Goodbye\"` → Allowed\n",
        "\n",
        "* Use `help(str)` or check Python documentation for more methods."
      ],
      "metadata": {
        "id": "USbcutWzo0eq"
      }
    },
    {
      "cell_type": "code",
      "source": [
        "x.upper()"
      ],
      "metadata": {
        "colab": {
          "base_uri": "https://localhost:8080/",
          "height": 0
        },
        "id": "9hW2Ub9fo1Oz",
        "outputId": "1d90bc51-0062-4261-9769-582f53d4be72"
      },
      "execution_count": 89,
      "outputs": [
        {
          "output_type": "execute_result",
          "data": {
            "text/plain": [
              "'THIS IS A STRING'"
            ],
            "application/vnd.google.colaboratory.intrinsic+json": {
              "type": "string"
            }
          },
          "metadata": {},
          "execution_count": 89
        }
      ]
    },
    {
      "cell_type": "code",
      "source": [
        "x"
      ],
      "metadata": {
        "colab": {
          "base_uri": "https://localhost:8080/",
          "height": 0
        },
        "id": "wISBk6qmpGGJ",
        "outputId": "64415aa7-a64f-4224-e4b9-f03ed350b05f"
      },
      "execution_count": 90,
      "outputs": [
        {
          "output_type": "execute_result",
          "data": {
            "text/plain": [
              "'This is a string'"
            ],
            "application/vnd.google.colaboratory.intrinsic+json": {
              "type": "string"
            }
          },
          "metadata": {},
          "execution_count": 90
        }
      ]
    },
    {
      "cell_type": "code",
      "source": [
        "x = x.upper()"
      ],
      "metadata": {
        "id": "UJ_IGM83pHFa"
      },
      "execution_count": 91,
      "outputs": []
    },
    {
      "cell_type": "code",
      "source": [
        "x"
      ],
      "metadata": {
        "colab": {
          "base_uri": "https://localhost:8080/",
          "height": 0
        },
        "id": "_R5gzXqOpLLx",
        "outputId": "3e35c56f-ba2f-4497-e831-afdf1301459d"
      },
      "execution_count": 92,
      "outputs": [
        {
          "output_type": "execute_result",
          "data": {
            "text/plain": [
              "'THIS IS A STRING'"
            ],
            "application/vnd.google.colaboratory.intrinsic+json": {
              "type": "string"
            }
          },
          "metadata": {},
          "execution_count": 92
        }
      ]
    },
    {
      "cell_type": "code",
      "source": [
        "x.lower()"
      ],
      "metadata": {
        "colab": {
          "base_uri": "https://localhost:8080/",
          "height": 0
        },
        "id": "9faAhtTdpMLS",
        "outputId": "532787aa-c41b-49fd-8f97-8ffd0d9dc175"
      },
      "execution_count": 93,
      "outputs": [
        {
          "output_type": "execute_result",
          "data": {
            "text/plain": [
              "'this is a string'"
            ],
            "application/vnd.google.colaboratory.intrinsic+json": {
              "type": "string"
            }
          },
          "metadata": {},
          "execution_count": 93
        }
      ]
    },
    {
      "cell_type": "code",
      "source": [
        "x"
      ],
      "metadata": {
        "colab": {
          "base_uri": "https://localhost:8080/",
          "height": 0
        },
        "id": "meEkdD7RpRkd",
        "outputId": "719c8fa1-e6e3-47bc-f9a1-e67366ed036c"
      },
      "execution_count": 94,
      "outputs": [
        {
          "output_type": "execute_result",
          "data": {
            "text/plain": [
              "'THIS IS A STRING'"
            ],
            "application/vnd.google.colaboratory.intrinsic+json": {
              "type": "string"
            }
          },
          "metadata": {},
          "execution_count": 94
        }
      ]
    },
    {
      "cell_type": "code",
      "source": [
        "y = 'Even Odd'"
      ],
      "metadata": {
        "id": "0zodwsnWrFlz"
      },
      "execution_count": 95,
      "outputs": []
    },
    {
      "cell_type": "code",
      "source": [
        "y.find('Even')"
      ],
      "metadata": {
        "colab": {
          "base_uri": "https://localhost:8080/",
          "height": 0
        },
        "id": "08JpXOQJrXQ-",
        "outputId": "bc9c2ee3-6f15-4d0d-d35b-c17f0937742c"
      },
      "execution_count": 96,
      "outputs": [
        {
          "output_type": "execute_result",
          "data": {
            "text/plain": [
              "0"
            ]
          },
          "metadata": {},
          "execution_count": 96
        }
      ]
    },
    {
      "cell_type": "code",
      "source": [
        "y.find('even')"
      ],
      "metadata": {
        "colab": {
          "base_uri": "https://localhost:8080/",
          "height": 0
        },
        "id": "jGBDa4gKrai5",
        "outputId": "358aebd7-a800-4e15-9f3e-c86069ad644e"
      },
      "execution_count": 97,
      "outputs": [
        {
          "output_type": "execute_result",
          "data": {
            "text/plain": [
              "-1"
            ]
          },
          "metadata": {},
          "execution_count": 97
        }
      ]
    },
    {
      "cell_type": "code",
      "source": [
        "y"
      ],
      "metadata": {
        "colab": {
          "base_uri": "https://localhost:8080/",
          "height": 0
        },
        "id": "l--NPw7AreSD",
        "outputId": "522cca30-1f79-4f08-c1ea-827cc3a49d10"
      },
      "execution_count": 98,
      "outputs": [
        {
          "output_type": "execute_result",
          "data": {
            "text/plain": [
              "'Even Odd'"
            ],
            "application/vnd.google.colaboratory.intrinsic+json": {
              "type": "string"
            }
          },
          "metadata": {},
          "execution_count": 98
        }
      ]
    },
    {
      "cell_type": "code",
      "source": [
        "y.replace('Even', 'Prime')"
      ],
      "metadata": {
        "colab": {
          "base_uri": "https://localhost:8080/",
          "height": 0
        },
        "id": "j4F8Me_7rkrY",
        "outputId": "f5737a49-00a9-4cff-b9d2-e75e887a2a4f"
      },
      "execution_count": 99,
      "outputs": [
        {
          "output_type": "execute_result",
          "data": {
            "text/plain": [
              "'Prime Odd'"
            ],
            "application/vnd.google.colaboratory.intrinsic+json": {
              "type": "string"
            }
          },
          "metadata": {},
          "execution_count": 99
        }
      ]
    },
    {
      "cell_type": "code",
      "source": [
        "y = y.replace('Even', 'Prime')"
      ],
      "metadata": {
        "id": "Jap0zYlBrqCa"
      },
      "execution_count": 100,
      "outputs": []
    },
    {
      "cell_type": "code",
      "source": [
        "y"
      ],
      "metadata": {
        "colab": {
          "base_uri": "https://localhost:8080/",
          "height": 0
        },
        "id": "80YIQ4bkr0ua",
        "outputId": "7a0c0f96-b11d-42f7-b01d-dceca0878654"
      },
      "execution_count": 101,
      "outputs": [
        {
          "output_type": "execute_result",
          "data": {
            "text/plain": [
              "'Prime Odd'"
            ],
            "application/vnd.google.colaboratory.intrinsic+json": {
              "type": "string"
            }
          },
          "metadata": {},
          "execution_count": 101
        }
      ]
    },
    {
      "cell_type": "code",
      "source": [
        "x"
      ],
      "metadata": {
        "colab": {
          "base_uri": "https://localhost:8080/",
          "height": 0
        },
        "id": "dm3RTFyvr1qe",
        "outputId": "3d93692d-c4fe-4a8e-adda-08f6c7742911"
      },
      "execution_count": 102,
      "outputs": [
        {
          "output_type": "execute_result",
          "data": {
            "text/plain": [
              "'THIS IS A STRING'"
            ],
            "application/vnd.google.colaboratory.intrinsic+json": {
              "type": "string"
            }
          },
          "metadata": {},
          "execution_count": 102
        }
      ]
    },
    {
      "cell_type": "code",
      "source": [
        "x.split()"
      ],
      "metadata": {
        "colab": {
          "base_uri": "https://localhost:8080/",
          "height": 0
        },
        "id": "WcrS4WUasAQ3",
        "outputId": "f9fd9962-1895-455e-e1fb-3665aa808663"
      },
      "execution_count": 103,
      "outputs": [
        {
          "output_type": "execute_result",
          "data": {
            "text/plain": [
              "['THIS', 'IS', 'A', 'STRING']"
            ]
          },
          "metadata": {},
          "execution_count": 103
        }
      ]
    },
    {
      "cell_type": "code",
      "source": [
        "x.split(',')"
      ],
      "metadata": {
        "colab": {
          "base_uri": "https://localhost:8080/",
          "height": 0
        },
        "id": "XQ1wWx0WsDgu",
        "outputId": "d1b94aab-328f-404b-c743-183ddf889c8f"
      },
      "execution_count": 104,
      "outputs": [
        {
          "output_type": "execute_result",
          "data": {
            "text/plain": [
              "['THIS IS A STRING']"
            ]
          },
          "metadata": {},
          "execution_count": 104
        }
      ]
    },
    {
      "cell_type": "code",
      "source": [
        "x = 'THIS, IS A, STRING'"
      ],
      "metadata": {
        "id": "h5Ui9KFjsJmi"
      },
      "execution_count": 105,
      "outputs": []
    },
    {
      "cell_type": "code",
      "source": [
        "x.split(',')"
      ],
      "metadata": {
        "colab": {
          "base_uri": "https://localhost:8080/",
          "height": 0
        },
        "id": "K-Kqu9EFsOy4",
        "outputId": "20d5c436-704a-4e84-dbaa-e0a53eb420d0"
      },
      "execution_count": 106,
      "outputs": [
        {
          "output_type": "execute_result",
          "data": {
            "text/plain": [
              "['THIS', ' IS A', ' STRING']"
            ]
          },
          "metadata": {},
          "execution_count": 106
        }
      ]
    },
    {
      "cell_type": "code",
      "source": [
        "x.split()"
      ],
      "metadata": {
        "colab": {
          "base_uri": "https://localhost:8080/",
          "height": 0
        },
        "id": "_j95jb1asSOK",
        "outputId": "d780d77e-4456-4ba8-ddd0-b9a4c1d34fe1"
      },
      "execution_count": 108,
      "outputs": [
        {
          "output_type": "execute_result",
          "data": {
            "text/plain": [
              "['THIS,', 'IS', 'A,', 'STRING']"
            ]
          },
          "metadata": {},
          "execution_count": 108
        }
      ]
    },
    {
      "cell_type": "code",
      "source": [
        "x.split(' ')"
      ],
      "metadata": {
        "colab": {
          "base_uri": "https://localhost:8080/",
          "height": 0
        },
        "id": "0qJSQ16YsgXG",
        "outputId": "567b5181-8699-44f1-f7e5-d210e7c43779"
      },
      "execution_count": 109,
      "outputs": [
        {
          "output_type": "execute_result",
          "data": {
            "text/plain": [
              "['THIS,', 'IS', 'A,', 'STRING']"
            ]
          },
          "metadata": {},
          "execution_count": 109
        }
      ]
    },
    {
      "cell_type": "code",
      "source": [
        "a = 'Hello'"
      ],
      "metadata": {
        "id": "bNAJ0mcGslEU"
      },
      "execution_count": 1,
      "outputs": []
    },
    {
      "cell_type": "code",
      "source": [
        "a = 'Goodbye'"
      ],
      "metadata": {
        "id": "XB1dK6DWLcje"
      },
      "execution_count": 2,
      "outputs": []
    },
    {
      "cell_type": "code",
      "source": [
        "a[0]"
      ],
      "metadata": {
        "colab": {
          "base_uri": "https://localhost:8080/",
          "height": 0
        },
        "id": "td_79PshLnk_",
        "outputId": "daa08235-84f7-49bd-912a-129c8532c30f"
      },
      "execution_count": 3,
      "outputs": [
        {
          "output_type": "execute_result",
          "data": {
            "text/plain": [
              "'G'"
            ],
            "application/vnd.google.colaboratory.intrinsic+json": {
              "type": "string"
            }
          },
          "metadata": {},
          "execution_count": 3
        }
      ]
    },
    {
      "cell_type": "code",
      "source": [
        "a[0] = 'P'"
      ],
      "metadata": {
        "colab": {
          "base_uri": "https://localhost:8080/",
          "height": 0
        },
        "id": "MU4Y0L2oLpl7",
        "outputId": "4e511690-68d2-4d1e-8bd6-8e2311735cb4"
      },
      "execution_count": 4,
      "outputs": [
        {
          "output_type": "error",
          "ename": "TypeError",
          "evalue": "'str' object does not support item assignment",
          "traceback": [
            "\u001b[0;31m---------------------------------------------------------------------------\u001b[0m",
            "\u001b[0;31mTypeError\u001b[0m                                 Traceback (most recent call last)",
            "\u001b[0;32m/tmp/ipython-input-4-1998715799.py\u001b[0m in \u001b[0;36m<cell line: 0>\u001b[0;34m()\u001b[0m\n\u001b[0;32m----> 1\u001b[0;31m \u001b[0ma\u001b[0m\u001b[0;34m[\u001b[0m\u001b[0;36m0\u001b[0m\u001b[0;34m]\u001b[0m \u001b[0;34m=\u001b[0m \u001b[0;34m'P'\u001b[0m\u001b[0;34m\u001b[0m\u001b[0;34m\u001b[0m\u001b[0m\n\u001b[0m",
            "\u001b[0;31mTypeError\u001b[0m: 'str' object does not support item assignment"
          ]
        }
      ]
    },
    {
      "cell_type": "markdown",
      "source": [
        "## Python Notes – String Concatenation & f-Strings\n",
        "\n",
        "### String Concatenation\n",
        "\n",
        "* Strings can be joined using the `+` operator.\n",
        "  * Example:\n",
        "    * `\"Hello\" + \" \" + \"World\"` → `\"Hello World\"`\n",
        "* Concatenating numerical values adds them:\n",
        "  * `5 + 5` → `10`\n",
        "* Concatenating strings merges them:\n",
        "  * `\"5\" + \"5\"` → `\"55\"`\n",
        "\n",
        "* Example with variables:\n",
        "  * `x = \"My name is\"`\n",
        "  * `y = \"John\"`\n",
        "  * `z = x + \" \" + y` → `\"My name is John\"`\n",
        "\n",
        "### f-Strings (String Interpolation)\n",
        "\n",
        "* f-Strings embed variable values directly into a string.\n",
        "* Syntax: prefix the string with `f`, then use `{}` to include variables.\n",
        "\n",
        "* Example:\n",
        "  * `name = \"John\"`\n",
        "  * `f\"Hi, my name is {name}\"` → `\"Hi, my name is John\"`\n",
        "\n",
        "* If `name = \"Ben\"`, the output becomes:\n",
        "  * `f\"Hi, my name is {name}\"` → `\"Hi, my name is Ben\"`\n",
        "\n",
        "* f-Strings can use:\n",
        "  * Variables multiple times → `f\"{name} is {name}\"`\n",
        "  * Multiple variables → `f\"{first} {last}\"`\n",
        "\n",
        "* f-Strings make dynamic and readable string formatting easy."
      ],
      "metadata": {
        "id": "QESdn7tLNUi2"
      }
    },
    {
      "cell_type": "code",
      "source": [
        "10+10"
      ],
      "metadata": {
        "colab": {
          "base_uri": "https://localhost:8080/",
          "height": 0
        },
        "id": "3WfaBkwSNVZQ",
        "outputId": "99b36d77-b9a6-45ad-bf90-c6d0c49cd919"
      },
      "execution_count": 5,
      "outputs": [
        {
          "output_type": "execute_result",
          "data": {
            "text/plain": [
              "20"
            ]
          },
          "metadata": {},
          "execution_count": 5
        }
      ]
    },
    {
      "cell_type": "code",
      "source": [
        "'This string' + ' ' + 'that string'"
      ],
      "metadata": {
        "colab": {
          "base_uri": "https://localhost:8080/",
          "height": 35
        },
        "id": "cnMEZOfuOBYA",
        "outputId": "23434a3a-2a9a-4ba5-8d5b-dec9a07e601e"
      },
      "execution_count": 6,
      "outputs": [
        {
          "output_type": "execute_result",
          "data": {
            "text/plain": [
              "'This string that string'"
            ],
            "application/vnd.google.colaboratory.intrinsic+json": {
              "type": "string"
            }
          },
          "metadata": {},
          "execution_count": 6
        }
      ]
    },
    {
      "cell_type": "code",
      "source": [
        "x = 'My name is'"
      ],
      "metadata": {
        "id": "goex5IgFOQsY"
      },
      "execution_count": 7,
      "outputs": []
    },
    {
      "cell_type": "code",
      "source": [
        "y = 'John'"
      ],
      "metadata": {
        "id": "oGOS5VVIOUoO"
      },
      "execution_count": 8,
      "outputs": []
    },
    {
      "cell_type": "code",
      "source": [
        "z = x + ' ' + y"
      ],
      "metadata": {
        "id": "TTnd-bipOaQG"
      },
      "execution_count": 13,
      "outputs": []
    },
    {
      "cell_type": "code",
      "source": [
        "z"
      ],
      "metadata": {
        "colab": {
          "base_uri": "https://localhost:8080/",
          "height": 35
        },
        "id": "7pPGqnLpOh7q",
        "outputId": "410e6607-c398-46de-f593-e0ea79453b35"
      },
      "execution_count": 14,
      "outputs": [
        {
          "output_type": "execute_result",
          "data": {
            "text/plain": [
              "'My name is John'"
            ],
            "application/vnd.google.colaboratory.intrinsic+json": {
              "type": "string"
            }
          },
          "metadata": {},
          "execution_count": 14
        }
      ]
    },
    {
      "cell_type": "code",
      "source": [
        "f'Hi, my name is {y}'"
      ],
      "metadata": {
        "colab": {
          "base_uri": "https://localhost:8080/",
          "height": 35
        },
        "id": "Fh3NEnxxOkI0",
        "outputId": "e231fa78-87d9-4fda-ae0b-9de5caccc88e"
      },
      "execution_count": 15,
      "outputs": [
        {
          "output_type": "execute_result",
          "data": {
            "text/plain": [
              "'Hi, my name is John'"
            ],
            "application/vnd.google.colaboratory.intrinsic+json": {
              "type": "string"
            }
          },
          "metadata": {},
          "execution_count": 15
        }
      ]
    },
    {
      "cell_type": "markdown",
      "source": [
        "## Python Notes – Lists and List Methods\n",
        "\n",
        "### What is a List?\n",
        "\n",
        "* Lists are mutable sequences enclosed in square brackets.\n",
        "* Can store items of same or different types.\n",
        "\n",
        "* Example:\n",
        "  * `list1 = [2, 17, 18, 19, 20]`\n",
        "  * `list2 = ['John', 'Mark', 'Luke', 'Jane']`\n",
        "  * `list3 = ['John', 17, 'Mark', 18, 'Luke', 19, 'Jane', 20]` (mixed types)\n",
        "\n",
        "### Indexing and Slicing\n",
        "\n",
        "* Indexing:\n",
        "  * `x = 'Hello'`\n",
        "  * `x[3]` → `'l'`\n",
        "  * `x[2:5]` → `'llo'`\n",
        "\n",
        "* Lists:\n",
        "  * `list1 = [2, 17, 18, 19, 20]`\n",
        "  * `list1[4]` → `20`\n",
        "  * `list1[-3]` → `18`\n",
        "  * `list1[2:5]` → `[18, 19, 20]`\n",
        "\n",
        "* Type checking:\n",
        "  * `type(list1)` → `<class 'list'>`\n",
        "  * `type(list1[4])` → `<class 'int'>`\n",
        "\n",
        "### Nested Lists (Lists Inside Lists)\n",
        "\n",
        "* `list4 = ['x', 'y', list3]`\n",
        "* `list4[1]` → `'y'`\n",
        "* `list4[2]` → the nested list `list3`\n",
        "* `list4[2][2]` → `'Mark'`\n",
        "* `list4[2][3]` → `18`\n",
        "\n",
        "* Assigning nested list to variable:\n",
        "  * `element = list4[2]`\n",
        "  * `element[3]` → `18`\n",
        "\n",
        "### Mutability\n",
        "\n",
        "* Strings are immutable:\n",
        "  * `x = 'Hello'`\n",
        "  * `x[0] = 'P'` → Error\n",
        "\n",
        "* Lists are mutable:\n",
        "  * `list1[4] = 'HEY!'`\n",
        "  * `list1` now → `[2, 17, 18, 19, 'HEY!']`\n",
        "\n",
        "### List Methods\n",
        "\n",
        "* `.append(value)` – Adds a value to the end\n",
        "  * `list1.append('HOLA!')` → `[2, 17, 18, 19, 'HEY!', 'HOLA!']`\n",
        "* `.append(list2)` – Appends `list2` as a single nested list\n",
        "  * `list1.append(list2)` → `['John', ..., 'HOLA!', ['John', 'Mark', 'Luke', 'Jane']]`\n",
        "\n",
        "* `.extend(list2)` – Adds each element of `list2` individually\n",
        "  * `list1.extend(list2)` → Adds `'John', 'Mark', 'Luke', 'Jane'` to the end\n",
        "\n",
        "* `.remove(value)` – Removes the first occurrence of value\n",
        "  * `list1.remove(19)` → removes number 19\n",
        "  * `list1.remove(['John', 'Mark', 'Luke', 'Jane'])` → removes the nested list\n",
        "\n",
        "* `.pop()` – Removes and returns last element\n",
        "  * `list1.pop()` → returns `'Jane'`\n",
        "  * `list1.pop()` again → returns `'Luke'`\n",
        "  * `type(list1.pop())` → shows type of removed item\n",
        "  * `removed_item = list1.pop()` → stores removed item in a variable\n",
        "  * `removed_item` → shows removed item\n",
        "\n",
        "* `.insert(index, value)` – Inserts value at specified index\n",
        "  * `list1.insert(2, 3000)` → inserts 3000 at index 2\n",
        "\n",
        "* Example: final state of `list1` reflects all above operations"
      ],
      "metadata": {
        "id": "D-xQL9QyPfSa"
      }
    },
    {
      "cell_type": "code",
      "source": [
        "list1 = [2,17,18,19,20]"
      ],
      "metadata": {
        "id": "X3lW5_r0zJdI"
      },
      "execution_count": 18,
      "outputs": []
    },
    {
      "cell_type": "code",
      "source": [
        "list2 = ['John', 'Mark', 'Luke', 'Jane']"
      ],
      "metadata": {
        "id": "5JN3Pbo-zLvd"
      },
      "execution_count": 20,
      "outputs": []
    },
    {
      "cell_type": "code",
      "source": [
        "list3 = ['John', 17, 'Mark', 18, 'Luke', 19, 'Jane', 20]"
      ],
      "metadata": {
        "id": "oobcftDzzhYc"
      },
      "execution_count": 22,
      "outputs": []
    },
    {
      "cell_type": "code",
      "source": [
        "x = 'Hello'"
      ],
      "metadata": {
        "id": "bJI7J_qjztHf"
      },
      "execution_count": 23,
      "outputs": []
    },
    {
      "cell_type": "code",
      "source": [
        "x[3]"
      ],
      "metadata": {
        "colab": {
          "base_uri": "https://localhost:8080/",
          "height": 35
        },
        "id": "L4S1EaI0zvRE",
        "outputId": "1dddcd07-76a3-4bd2-f7ef-72a931fdaf26"
      },
      "execution_count": 25,
      "outputs": [
        {
          "output_type": "execute_result",
          "data": {
            "text/plain": [
              "'l'"
            ],
            "application/vnd.google.colaboratory.intrinsic+json": {
              "type": "string"
            }
          },
          "metadata": {},
          "execution_count": 25
        }
      ]
    },
    {
      "cell_type": "code",
      "source": [
        "x[2:5]"
      ],
      "metadata": {
        "colab": {
          "base_uri": "https://localhost:8080/",
          "height": 35
        },
        "id": "HKl1Az-Rz4FY",
        "outputId": "c84ca136-42ca-47f5-91af-434ee511cf1e"
      },
      "execution_count": 29,
      "outputs": [
        {
          "output_type": "execute_result",
          "data": {
            "text/plain": [
              "'llo'"
            ],
            "application/vnd.google.colaboratory.intrinsic+json": {
              "type": "string"
            }
          },
          "metadata": {},
          "execution_count": 29
        }
      ]
    },
    {
      "cell_type": "code",
      "source": [
        "list1"
      ],
      "metadata": {
        "colab": {
          "base_uri": "https://localhost:8080/",
          "height": 0
        },
        "id": "Kwzyc9BZz-FF",
        "outputId": "b076c195-b3e2-4ebf-998e-47b8839fccd2"
      },
      "execution_count": 30,
      "outputs": [
        {
          "output_type": "execute_result",
          "data": {
            "text/plain": [
              "[2, 17, 18, 19, 20]"
            ]
          },
          "metadata": {},
          "execution_count": 30
        }
      ]
    },
    {
      "cell_type": "code",
      "source": [
        "list1[4]"
      ],
      "metadata": {
        "colab": {
          "base_uri": "https://localhost:8080/",
          "height": 0
        },
        "id": "jMT28ruM0A9g",
        "outputId": "659a7b6b-0e0d-43ab-f680-8c839d2acfeb"
      },
      "execution_count": 31,
      "outputs": [
        {
          "output_type": "execute_result",
          "data": {
            "text/plain": [
              "20"
            ]
          },
          "metadata": {},
          "execution_count": 31
        }
      ]
    },
    {
      "cell_type": "code",
      "source": [
        "list1[-3]"
      ],
      "metadata": {
        "colab": {
          "base_uri": "https://localhost:8080/",
          "height": 0
        },
        "id": "Gg2RuLqm0Fb9",
        "outputId": "ba9e65fb-9b72-4f4c-c611-22e781ccaeb2"
      },
      "execution_count": 33,
      "outputs": [
        {
          "output_type": "execute_result",
          "data": {
            "text/plain": [
              "18"
            ]
          },
          "metadata": {},
          "execution_count": 33
        }
      ]
    },
    {
      "cell_type": "code",
      "source": [
        "list1[2:5]"
      ],
      "metadata": {
        "colab": {
          "base_uri": "https://localhost:8080/",
          "height": 0
        },
        "id": "A2KVyo-N0K0W",
        "outputId": "fa63cc71-477a-4cc7-f49e-d834431dbb82"
      },
      "execution_count": 34,
      "outputs": [
        {
          "output_type": "execute_result",
          "data": {
            "text/plain": [
              "[18, 19, 20]"
            ]
          },
          "metadata": {},
          "execution_count": 34
        }
      ]
    },
    {
      "cell_type": "code",
      "source": [
        "type(list1)"
      ],
      "metadata": {
        "colab": {
          "base_uri": "https://localhost:8080/",
          "height": 0
        },
        "id": "HIX2JnsS0U2T",
        "outputId": "9dac056e-7363-481f-ddf1-9488bf90a683"
      },
      "execution_count": 35,
      "outputs": [
        {
          "output_type": "execute_result",
          "data": {
            "text/plain": [
              "list"
            ]
          },
          "metadata": {},
          "execution_count": 35
        }
      ]
    },
    {
      "cell_type": "code",
      "source": [
        "type(list1[4])"
      ],
      "metadata": {
        "colab": {
          "base_uri": "https://localhost:8080/",
          "height": 0
        },
        "id": "emHUcGM20Xtm",
        "outputId": "1e05568c-dfb8-427e-e15a-e10239832b65"
      },
      "execution_count": 36,
      "outputs": [
        {
          "output_type": "execute_result",
          "data": {
            "text/plain": [
              "int"
            ]
          },
          "metadata": {},
          "execution_count": 36
        }
      ]
    },
    {
      "cell_type": "code",
      "source": [
        "list4 = ['x','y',list3]"
      ],
      "metadata": {
        "id": "mdFVDUPJ0bO5"
      },
      "execution_count": 37,
      "outputs": []
    },
    {
      "cell_type": "code",
      "source": [
        "list4"
      ],
      "metadata": {
        "colab": {
          "base_uri": "https://localhost:8080/",
          "height": 0
        },
        "id": "7QWs3L8J0rWY",
        "outputId": "05b3ffbd-8d3b-4180-b18d-d75764a03e12"
      },
      "execution_count": 38,
      "outputs": [
        {
          "output_type": "execute_result",
          "data": {
            "text/plain": [
              "['x', 'y', ['John', 17, 'Mark', 18, 'Luke', 19, 'Jane', 20]]"
            ]
          },
          "metadata": {},
          "execution_count": 38
        }
      ]
    },
    {
      "cell_type": "code",
      "source": [
        "list4[1]"
      ],
      "metadata": {
        "colab": {
          "base_uri": "https://localhost:8080/",
          "height": 35
        },
        "id": "AS6pdeZx0uBO",
        "outputId": "fb42f99b-2301-4a1c-dca0-02d880a5f719"
      },
      "execution_count": 40,
      "outputs": [
        {
          "output_type": "execute_result",
          "data": {
            "text/plain": [
              "'y'"
            ],
            "application/vnd.google.colaboratory.intrinsic+json": {
              "type": "string"
            }
          },
          "metadata": {},
          "execution_count": 40
        }
      ]
    },
    {
      "cell_type": "code",
      "source": [
        "list4[2]"
      ],
      "metadata": {
        "colab": {
          "base_uri": "https://localhost:8080/",
          "height": 0
        },
        "id": "jeDABHPv02f6",
        "outputId": "bf8bf9d7-32ad-48fa-ca73-56d80917faff"
      },
      "execution_count": 41,
      "outputs": [
        {
          "output_type": "execute_result",
          "data": {
            "text/plain": [
              "['John', 17, 'Mark', 18, 'Luke', 19, 'Jane', 20]"
            ]
          },
          "metadata": {},
          "execution_count": 41
        }
      ]
    },
    {
      "cell_type": "code",
      "source": [
        "list4[2][2]"
      ],
      "metadata": {
        "colab": {
          "base_uri": "https://localhost:8080/",
          "height": 35
        },
        "id": "uJ_1aOp005UK",
        "outputId": "66fb6202-df97-42ac-ac5a-80a8f2cdfb0d"
      },
      "execution_count": 42,
      "outputs": [
        {
          "output_type": "execute_result",
          "data": {
            "text/plain": [
              "'Mark'"
            ],
            "application/vnd.google.colaboratory.intrinsic+json": {
              "type": "string"
            }
          },
          "metadata": {},
          "execution_count": 42
        }
      ]
    },
    {
      "cell_type": "code",
      "source": [
        "list4[2][3]"
      ],
      "metadata": {
        "colab": {
          "base_uri": "https://localhost:8080/",
          "height": 0
        },
        "id": "FZ78uDu10-FJ",
        "outputId": "b3bbf75f-c8b4-487d-853b-a56e281a6ffb"
      },
      "execution_count": 44,
      "outputs": [
        {
          "output_type": "execute_result",
          "data": {
            "text/plain": [
              "18"
            ]
          },
          "metadata": {},
          "execution_count": 44
        }
      ]
    },
    {
      "cell_type": "code",
      "source": [
        "element = list4[2]"
      ],
      "metadata": {
        "id": "B-tDEBHP1FVu"
      },
      "execution_count": 47,
      "outputs": []
    },
    {
      "cell_type": "code",
      "source": [
        "element"
      ],
      "metadata": {
        "colab": {
          "base_uri": "https://localhost:8080/",
          "height": 0
        },
        "id": "Gqfr3jkN1Qem",
        "outputId": "c5925cda-e817-4b54-f47b-9566ba27f6a1"
      },
      "execution_count": 48,
      "outputs": [
        {
          "output_type": "execute_result",
          "data": {
            "text/plain": [
              "['John', 17, 'Mark', 18, 'Luke', 19, 'Jane', 20]"
            ]
          },
          "metadata": {},
          "execution_count": 48
        }
      ]
    },
    {
      "cell_type": "code",
      "source": [
        "element[3]"
      ],
      "metadata": {
        "colab": {
          "base_uri": "https://localhost:8080/",
          "height": 0
        },
        "id": "mBedUrgF1TQ0",
        "outputId": "ee6f9905-4cfc-45d3-bdb0-49bee22e1a13"
      },
      "execution_count": 50,
      "outputs": [
        {
          "output_type": "execute_result",
          "data": {
            "text/plain": [
              "18"
            ]
          },
          "metadata": {},
          "execution_count": 50
        }
      ]
    },
    {
      "cell_type": "code",
      "source": [
        "x"
      ],
      "metadata": {
        "colab": {
          "base_uri": "https://localhost:8080/",
          "height": 35
        },
        "id": "EGRdnJxK1ZrB",
        "outputId": "85ad3294-7f58-4994-e2af-b7f5bbae2d82"
      },
      "execution_count": 51,
      "outputs": [
        {
          "output_type": "execute_result",
          "data": {
            "text/plain": [
              "'Hello'"
            ],
            "application/vnd.google.colaboratory.intrinsic+json": {
              "type": "string"
            }
          },
          "metadata": {},
          "execution_count": 51
        }
      ]
    },
    {
      "cell_type": "code",
      "source": [
        "x[0] = 'P'"
      ],
      "metadata": {
        "colab": {
          "base_uri": "https://localhost:8080/",
          "height": 144
        },
        "id": "0aKPRVC61upx",
        "outputId": "cca85014-b026-402c-b0b0-f1f6c8d32845"
      },
      "execution_count": 52,
      "outputs": [
        {
          "output_type": "error",
          "ename": "TypeError",
          "evalue": "'str' object does not support item assignment",
          "traceback": [
            "\u001b[0;31m---------------------------------------------------------------------------\u001b[0m",
            "\u001b[0;31mTypeError\u001b[0m                                 Traceback (most recent call last)",
            "\u001b[0;32m/tmp/ipython-input-52-929670219.py\u001b[0m in \u001b[0;36m<cell line: 0>\u001b[0;34m()\u001b[0m\n\u001b[0;32m----> 1\u001b[0;31m \u001b[0mx\u001b[0m\u001b[0;34m[\u001b[0m\u001b[0;36m0\u001b[0m\u001b[0;34m]\u001b[0m \u001b[0;34m=\u001b[0m \u001b[0;34m'P'\u001b[0m\u001b[0;34m\u001b[0m\u001b[0;34m\u001b[0m\u001b[0m\n\u001b[0m",
            "\u001b[0;31mTypeError\u001b[0m: 'str' object does not support item assignment"
          ]
        }
      ]
    },
    {
      "cell_type": "code",
      "source": [
        "list1"
      ],
      "metadata": {
        "colab": {
          "base_uri": "https://localhost:8080/"
        },
        "id": "pzJPn95R12m5",
        "outputId": "6178b35a-c6a6-4d76-8c44-f1022f080380"
      },
      "execution_count": 53,
      "outputs": [
        {
          "output_type": "execute_result",
          "data": {
            "text/plain": [
              "[2, 17, 18, 19, 20]"
            ]
          },
          "metadata": {},
          "execution_count": 53
        }
      ]
    },
    {
      "cell_type": "code",
      "source": [
        "list1[4] = 'HEY!'"
      ],
      "metadata": {
        "id": "IqNGKwmv14Ic"
      },
      "execution_count": 56,
      "outputs": []
    },
    {
      "cell_type": "code",
      "source": [
        "list1"
      ],
      "metadata": {
        "colab": {
          "base_uri": "https://localhost:8080/"
        },
        "id": "acKhc3iK1--8",
        "outputId": "0c475a6f-b0e2-49da-bf19-0339a20aa309"
      },
      "execution_count": 57,
      "outputs": [
        {
          "output_type": "execute_result",
          "data": {
            "text/plain": [
              "[2, 17, 18, 19, 'HEY!']"
            ]
          },
          "metadata": {},
          "execution_count": 57
        }
      ]
    },
    {
      "cell_type": "code",
      "source": [
        "list1.append('HOLA!')"
      ],
      "metadata": {
        "id": "6qev4Hr92Ewf"
      },
      "execution_count": 58,
      "outputs": []
    },
    {
      "cell_type": "code",
      "source": [
        "list1"
      ],
      "metadata": {
        "colab": {
          "base_uri": "https://localhost:8080/"
        },
        "id": "M1tyCVoi2O3x",
        "outputId": "a0ff6dff-0509-482c-e7c7-b9d4a00a2640"
      },
      "execution_count": 59,
      "outputs": [
        {
          "output_type": "execute_result",
          "data": {
            "text/plain": [
              "[2, 17, 18, 19, 'HEY!', 'HOLA!']"
            ]
          },
          "metadata": {},
          "execution_count": 59
        }
      ]
    },
    {
      "cell_type": "code",
      "source": [
        "list2"
      ],
      "metadata": {
        "colab": {
          "base_uri": "https://localhost:8080/"
        },
        "id": "v8SB3uVo2Qm1",
        "outputId": "e999e1e0-a946-465d-a1c2-9651a1d6089d"
      },
      "execution_count": 60,
      "outputs": [
        {
          "output_type": "execute_result",
          "data": {
            "text/plain": [
              "['John', 'Mark', 'Luke', 'Jane']"
            ]
          },
          "metadata": {},
          "execution_count": 60
        }
      ]
    },
    {
      "cell_type": "code",
      "source": [
        "list1.append(list2)"
      ],
      "metadata": {
        "id": "49cPkB6_2Wfr"
      },
      "execution_count": 61,
      "outputs": []
    },
    {
      "cell_type": "code",
      "source": [
        "list1"
      ],
      "metadata": {
        "colab": {
          "base_uri": "https://localhost:8080/"
        },
        "id": "0ikoav4d2dFh",
        "outputId": "2774bced-c321-4433-8ec1-9c18864b2922"
      },
      "execution_count": 62,
      "outputs": [
        {
          "output_type": "execute_result",
          "data": {
            "text/plain": [
              "[2, 17, 18, 19, 'HEY!', 'HOLA!', ['John', 'Mark', 'Luke', 'Jane']]"
            ]
          },
          "metadata": {},
          "execution_count": 62
        }
      ]
    },
    {
      "cell_type": "code",
      "source": [
        "list2"
      ],
      "metadata": {
        "colab": {
          "base_uri": "https://localhost:8080/"
        },
        "id": "FoUkZOvu2esz",
        "outputId": "77880a20-00ea-4eeb-db26-f3031fd3d600"
      },
      "execution_count": 64,
      "outputs": [
        {
          "output_type": "execute_result",
          "data": {
            "text/plain": [
              "['John', 'Mark', 'Luke', 'Jane']"
            ]
          },
          "metadata": {},
          "execution_count": 64
        }
      ]
    },
    {
      "cell_type": "code",
      "source": [
        "list1.extend(list2)"
      ],
      "metadata": {
        "id": "afVOUkur2h12"
      },
      "execution_count": 65,
      "outputs": []
    },
    {
      "cell_type": "code",
      "source": [
        "list1"
      ],
      "metadata": {
        "colab": {
          "base_uri": "https://localhost:8080/"
        },
        "id": "fDOPfCDh2lZw",
        "outputId": "ae674cd0-140c-47e4-f3da-838d44b60603"
      },
      "execution_count": 67,
      "outputs": [
        {
          "output_type": "execute_result",
          "data": {
            "text/plain": [
              "[2,\n",
              " 17,\n",
              " 18,\n",
              " 19,\n",
              " 'HEY!',\n",
              " 'HOLA!',\n",
              " ['John', 'Mark', 'Luke', 'Jane'],\n",
              " 'John',\n",
              " 'Mark',\n",
              " 'Luke',\n",
              " 'Jane']"
            ]
          },
          "metadata": {},
          "execution_count": 67
        }
      ]
    },
    {
      "cell_type": "code",
      "source": [
        "list1.remove(19)"
      ],
      "metadata": {
        "id": "vx8XtCg52rx9"
      },
      "execution_count": 68,
      "outputs": []
    },
    {
      "cell_type": "code",
      "source": [
        "list1"
      ],
      "metadata": {
        "colab": {
          "base_uri": "https://localhost:8080/"
        },
        "id": "aUfoAVoe2uze",
        "outputId": "e17c952c-2fb0-4d3b-8930-e612894719fb"
      },
      "execution_count": 69,
      "outputs": [
        {
          "output_type": "execute_result",
          "data": {
            "text/plain": [
              "[2,\n",
              " 17,\n",
              " 18,\n",
              " 'HEY!',\n",
              " 'HOLA!',\n",
              " ['John', 'Mark', 'Luke', 'Jane'],\n",
              " 'John',\n",
              " 'Mark',\n",
              " 'Luke',\n",
              " 'Jane']"
            ]
          },
          "metadata": {},
          "execution_count": 69
        }
      ]
    },
    {
      "cell_type": "code",
      "source": [
        "list1.remove(['John', 'Mark', 'Luke', 'Jane'])"
      ],
      "metadata": {
        "id": "_aPJci2U2xL9"
      },
      "execution_count": 71,
      "outputs": []
    },
    {
      "cell_type": "code",
      "source": [
        "list1"
      ],
      "metadata": {
        "colab": {
          "base_uri": "https://localhost:8080/"
        },
        "id": "OASB8NBl29rp",
        "outputId": "bd3e159d-a315-4b83-bf52-95c131567d43"
      },
      "execution_count": 72,
      "outputs": [
        {
          "output_type": "execute_result",
          "data": {
            "text/plain": [
              "[2, 17, 18, 'HEY!', 'HOLA!', 'John', 'Mark', 'Luke', 'Jane']"
            ]
          },
          "metadata": {},
          "execution_count": 72
        }
      ]
    },
    {
      "cell_type": "code",
      "source": [
        " list1.pop()"
      ],
      "metadata": {
        "colab": {
          "base_uri": "https://localhost:8080/",
          "height": 35
        },
        "id": "SzkiWIW_2-3n",
        "outputId": "110e33af-bb98-4c69-d455-ea8aef5531fc"
      },
      "execution_count": 73,
      "outputs": [
        {
          "output_type": "execute_result",
          "data": {
            "text/plain": [
              "'Jane'"
            ],
            "application/vnd.google.colaboratory.intrinsic+json": {
              "type": "string"
            }
          },
          "metadata": {},
          "execution_count": 73
        }
      ]
    },
    {
      "cell_type": "code",
      "source": [
        "list1.pop()"
      ],
      "metadata": {
        "colab": {
          "base_uri": "https://localhost:8080/",
          "height": 35
        },
        "id": "4FG0in0U3HDs",
        "outputId": "b57383c7-ca2b-405b-9939-eecdedafeb6e"
      },
      "execution_count": 74,
      "outputs": [
        {
          "output_type": "execute_result",
          "data": {
            "text/plain": [
              "'Luke'"
            ],
            "application/vnd.google.colaboratory.intrinsic+json": {
              "type": "string"
            }
          },
          "metadata": {},
          "execution_count": 74
        }
      ]
    },
    {
      "cell_type": "code",
      "source": [
        "list1"
      ],
      "metadata": {
        "colab": {
          "base_uri": "https://localhost:8080/"
        },
        "id": "6Xhk22H13JJ-",
        "outputId": "41058649-5a25-4ce5-cc85-13fd87e9c642"
      },
      "execution_count": 75,
      "outputs": [
        {
          "output_type": "execute_result",
          "data": {
            "text/plain": [
              "[2, 17, 18, 'HEY!', 'HOLA!', 'John', 'Mark']"
            ]
          },
          "metadata": {},
          "execution_count": 75
        }
      ]
    },
    {
      "cell_type": "code",
      "source": [
        "type(list1.remove('HOLA!'))"
      ],
      "metadata": {
        "colab": {
          "base_uri": "https://localhost:8080/"
        },
        "id": "q3FWLmB13SAH",
        "outputId": "a7a53cb8-dcde-4d33-de48-94047d2ec0a2"
      },
      "execution_count": 76,
      "outputs": [
        {
          "output_type": "execute_result",
          "data": {
            "text/plain": [
              "NoneType"
            ]
          },
          "metadata": {},
          "execution_count": 76
        }
      ]
    },
    {
      "cell_type": "code",
      "source": [
        "type(list1.pop())"
      ],
      "metadata": {
        "colab": {
          "base_uri": "https://localhost:8080/"
        },
        "id": "slKu9ZGH3gU9",
        "outputId": "e5119068-e41f-4214-cc75-b45f86c3126e"
      },
      "execution_count": 77,
      "outputs": [
        {
          "output_type": "execute_result",
          "data": {
            "text/plain": [
              "str"
            ]
          },
          "metadata": {},
          "execution_count": 77
        }
      ]
    },
    {
      "cell_type": "code",
      "source": [
        "removed_item = list1.pop()"
      ],
      "metadata": {
        "id": "rlpUj65c3jlL"
      },
      "execution_count": 78,
      "outputs": []
    },
    {
      "cell_type": "code",
      "source": [
        "removed_item"
      ],
      "metadata": {
        "colab": {
          "base_uri": "https://localhost:8080/",
          "height": 35
        },
        "id": "KCwV9-3G3rK_",
        "outputId": "2ee21134-df54-42df-c7bf-4ebc3ae4ab84"
      },
      "execution_count": 79,
      "outputs": [
        {
          "output_type": "execute_result",
          "data": {
            "text/plain": [
              "'John'"
            ],
            "application/vnd.google.colaboratory.intrinsic+json": {
              "type": "string"
            }
          },
          "metadata": {},
          "execution_count": 79
        }
      ]
    },
    {
      "cell_type": "code",
      "source": [
        "list1.insert(2,3000)"
      ],
      "metadata": {
        "id": "OkjcOC9b3zbV"
      },
      "execution_count": 81,
      "outputs": []
    },
    {
      "cell_type": "code",
      "source": [
        "list1"
      ],
      "metadata": {
        "colab": {
          "base_uri": "https://localhost:8080/"
        },
        "id": "Wr4BWKy736rU",
        "outputId": "68073d4b-009e-45c3-f6e0-bf574ba89d71"
      },
      "execution_count": 82,
      "outputs": [
        {
          "output_type": "execute_result",
          "data": {
            "text/plain": [
              "[2, 17, 3000, 18, 'HEY!']"
            ]
          },
          "metadata": {},
          "execution_count": 82
        }
      ]
    },
    {
      "cell_type": "markdown",
      "source": [
        "## Python Notes – Dictionaries\n",
        "\n",
        "### What is a Dictionary?\n",
        "\n",
        "* Stores data in **key-value pairs**, separated by a colon `:`\n",
        "* Enclosed in **curly braces `{}`**\n",
        "* Keys must be unique and immutable (strings, numbers, tuples)\n",
        "* Values can be any data type (strings, lists, dictionaries)\n",
        "* Dictionaries are **ordered** (since Python 3.7), **mutable**, and **do not allow duplicates**\n",
        "\n",
        "### Creating a Dictionary\n",
        "\n",
        "* `dict1 = {'brand': 'Ford', 'cost': 25000}`\n",
        "* Access a value:\n",
        "  * `dict1['brand']` → `'Ford'`\n",
        "\n",
        "### Modifying Dictionary\n",
        "\n",
        "* Update a value:\n",
        "  * `dict1['brand'] = 'Audi'`\n",
        "* Add a new key-value pair:\n",
        "  * `dict1['transmission'] = 'Manual'`\n",
        "\n",
        "### Embedded Dictionary\n",
        "\n",
        "* Add a nested dictionary:\n",
        "  * `dict1['other_attributes'] = {'color': 'Black', 'year': 2021}`\n",
        "* Access nested value:\n",
        "  * `dict1['other_attributes']['year']` → `2021`\n",
        "\n",
        "### Dictionary with List as Value\n",
        "\n",
        "* Add a list as value:\n",
        "  * `dict1['previous_owners'] = ['Mike', 'Shelley', 'Richard']`\n",
        "* Access list:\n",
        "  * `x = dict1['previous_owners']`\n",
        "  * `x[1]` → `'Shelley'`\n",
        "  * Or directly: `dict1['previous_owners'][1]` → `'Shelley'`\n",
        "\n",
        "### Dictionary Methods\n",
        "\n",
        "* `.pop(key)` – Removes key and returns its value\n",
        "  * `dict1.pop('previous_owners')`\n",
        "* `.items()` – Returns all key-value pairs as tuples\n",
        "  * `dict1.items()`\n",
        "* `.keys()` – Returns list of all keys\n",
        "  * `dict1.keys()`\n",
        "* `.values()` – Returns list of all values\n",
        "  * `dict1.values()`\n",
        "\n",
        "### Summary\n",
        "\n",
        "* Use square brackets to access, add, or update values\n",
        "* Dictionaries can store:\n",
        "  * Strings, numbers\n",
        "  * Lists (e.g., previous owners)\n",
        "  * Other dictionaries (e.g., other attributes)\n",
        "* Use built-in methods to manage or inspect contents"
      ],
      "metadata": {
        "id": "MeQa7IOvBJQC"
      }
    },
    {
      "cell_type": "code",
      "source": [
        "dict1 = {'brand': 'Ford', 'model': 'Mustang', 'year': 1964}"
      ],
      "metadata": {
        "id": "kVeYO9WeBJ6f"
      },
      "execution_count": 83,
      "outputs": []
    },
    {
      "cell_type": "code",
      "source": [
        "dict1['brand']"
      ],
      "metadata": {
        "colab": {
          "base_uri": "https://localhost:8080/",
          "height": 35
        },
        "id": "Ciwgqe9qCyS-",
        "outputId": "e99d291a-157a-46f8-b000-d6eff819f90c"
      },
      "execution_count": 84,
      "outputs": [
        {
          "output_type": "execute_result",
          "data": {
            "text/plain": [
              "'Ford'"
            ],
            "application/vnd.google.colaboratory.intrinsic+json": {
              "type": "string"
            }
          },
          "metadata": {},
          "execution_count": 84
        }
      ]
    },
    {
      "cell_type": "code",
      "source": [
        "dict1['brand'] = 'BMW'"
      ],
      "metadata": {
        "id": "I-qbj8G2C2Eo"
      },
      "execution_count": 85,
      "outputs": []
    },
    {
      "cell_type": "code",
      "source": [
        "dict1['model'] = 'M8'"
      ],
      "metadata": {
        "id": "HH-uFDusDRMz"
      },
      "execution_count": 88,
      "outputs": []
    },
    {
      "cell_type": "code",
      "source": [
        "dict1"
      ],
      "metadata": {
        "colab": {
          "base_uri": "https://localhost:8080/"
        },
        "id": "jzyvTUGNDYC0",
        "outputId": "f4ce86d2-af27-4cf4-8607-b98bc785a01f"
      },
      "execution_count": 89,
      "outputs": [
        {
          "output_type": "execute_result",
          "data": {
            "text/plain": [
              "{'brand': 'BMW', 'model': 'M8', 'year': 1964}"
            ]
          },
          "metadata": {},
          "execution_count": 89
        }
      ]
    },
    {
      "cell_type": "code",
      "source": [
        "dict1['transmission'] = 'Manual'"
      ],
      "metadata": {
        "id": "ajkT2VudDZs6"
      },
      "execution_count": 90,
      "outputs": []
    },
    {
      "cell_type": "code",
      "source": [
        "dict1"
      ],
      "metadata": {
        "colab": {
          "base_uri": "https://localhost:8080/"
        },
        "id": "5T9ZkQuEDszu",
        "outputId": "19952029-eb11-4ed1-ceb1-3378532d686a"
      },
      "execution_count": 91,
      "outputs": [
        {
          "output_type": "execute_result",
          "data": {
            "text/plain": [
              "{'brand': 'BMW', 'model': 'M8', 'year': 1964, 'transmission': 'Manual'}"
            ]
          },
          "metadata": {},
          "execution_count": 91
        }
      ]
    },
    {
      "cell_type": "code",
      "source": [
        "dict1['other_attributes'] = {'color': 'red', 'price': 20000}"
      ],
      "metadata": {
        "id": "yc5UZ--HDutO"
      },
      "execution_count": 92,
      "outputs": []
    },
    {
      "cell_type": "code",
      "source": [
        "dict1"
      ],
      "metadata": {
        "colab": {
          "base_uri": "https://localhost:8080/"
        },
        "id": "dDDvuXHyD4Jh",
        "outputId": "b8406c1a-3e4d-4013-ceec-78c3a2d8b64e"
      },
      "execution_count": 93,
      "outputs": [
        {
          "output_type": "execute_result",
          "data": {
            "text/plain": [
              "{'brand': 'BMW',\n",
              " 'model': 'M8',\n",
              " 'year': 1964,\n",
              " 'transmission': 'Manual',\n",
              " 'other_attributes': {'color': 'red', 'price': 20000}}"
            ]
          },
          "metadata": {},
          "execution_count": 93
        }
      ]
    },
    {
      "cell_type": "code",
      "source": [
        "dict1['other_attributes']"
      ],
      "metadata": {
        "colab": {
          "base_uri": "https://localhost:8080/"
        },
        "id": "I8ESInxWEBG7",
        "outputId": "bf04923c-f9ab-437c-e8c8-e2bff1d4428c"
      },
      "execution_count": 94,
      "outputs": [
        {
          "output_type": "execute_result",
          "data": {
            "text/plain": [
              "{'color': 'red', 'price': 20000}"
            ]
          },
          "metadata": {},
          "execution_count": 94
        }
      ]
    },
    {
      "cell_type": "code",
      "source": [
        "dict1['other_attributes']['color']"
      ],
      "metadata": {
        "colab": {
          "base_uri": "https://localhost:8080/",
          "height": 35
        },
        "id": "30vBfL0xED5Q",
        "outputId": "d5f71ef5-d8e3-4456-8814-b2d5460adb65"
      },
      "execution_count": 95,
      "outputs": [
        {
          "output_type": "execute_result",
          "data": {
            "text/plain": [
              "'red'"
            ],
            "application/vnd.google.colaboratory.intrinsic+json": {
              "type": "string"
            }
          },
          "metadata": {},
          "execution_count": 95
        }
      ]
    },
    {
      "cell_type": "code",
      "source": [
        "dict1['previous_owners'] = ['Mike','John','Pam']"
      ],
      "metadata": {
        "id": "Z5NWedpMEKIJ"
      },
      "execution_count": 96,
      "outputs": []
    },
    {
      "cell_type": "code",
      "source": [
        "dict1['previous_owners']"
      ],
      "metadata": {
        "colab": {
          "base_uri": "https://localhost:8080/"
        },
        "id": "WEKeH-QZEfy9",
        "outputId": "3a2b1dee-d4e8-4fcd-d3bb-996c24ed21bf"
      },
      "execution_count": 97,
      "outputs": [
        {
          "output_type": "execute_result",
          "data": {
            "text/plain": [
              "['Mike', 'John', 'Pam']"
            ]
          },
          "metadata": {},
          "execution_count": 97
        }
      ]
    },
    {
      "cell_type": "code",
      "source": [
        "x = dict1['previous_owners']"
      ],
      "metadata": {
        "id": "Z9FkPFfpEilm"
      },
      "execution_count": 98,
      "outputs": []
    },
    {
      "cell_type": "code",
      "source": [
        "x[1]"
      ],
      "metadata": {
        "colab": {
          "base_uri": "https://localhost:8080/",
          "height": 35
        },
        "id": "euL0aKdaEmDN",
        "outputId": "4cabdd5a-3dcb-4ff8-d744-91484f60538e"
      },
      "execution_count": 99,
      "outputs": [
        {
          "output_type": "execute_result",
          "data": {
            "text/plain": [
              "'John'"
            ],
            "application/vnd.google.colaboratory.intrinsic+json": {
              "type": "string"
            }
          },
          "metadata": {},
          "execution_count": 99
        }
      ]
    },
    {
      "cell_type": "code",
      "source": [
        "dict1['previous_owners'][2]"
      ],
      "metadata": {
        "colab": {
          "base_uri": "https://localhost:8080/",
          "height": 35
        },
        "id": "eCfy9DACEnv1",
        "outputId": "fe5af1f7-4ff9-40fd-b44f-9cb30aa2da20"
      },
      "execution_count": 100,
      "outputs": [
        {
          "output_type": "execute_result",
          "data": {
            "text/plain": [
              "'Pam'"
            ],
            "application/vnd.google.colaboratory.intrinsic+json": {
              "type": "string"
            }
          },
          "metadata": {},
          "execution_count": 100
        }
      ]
    },
    {
      "cell_type": "code",
      "source": [
        "dict1.pop('previous_owners')"
      ],
      "metadata": {
        "colab": {
          "base_uri": "https://localhost:8080/"
        },
        "id": "8UyPQ657Exk5",
        "outputId": "84a625d2-d785-4e8f-d079-ca373c0a12a7"
      },
      "execution_count": 101,
      "outputs": [
        {
          "output_type": "execute_result",
          "data": {
            "text/plain": [
              "['Mike', 'John', 'Pam']"
            ]
          },
          "metadata": {},
          "execution_count": 101
        }
      ]
    },
    {
      "cell_type": "code",
      "source": [
        "dict1"
      ],
      "metadata": {
        "colab": {
          "base_uri": "https://localhost:8080/"
        },
        "id": "vI_MI1m3E6pa",
        "outputId": "ac6e6660-9531-45fd-888a-5e1f359e113e"
      },
      "execution_count": 102,
      "outputs": [
        {
          "output_type": "execute_result",
          "data": {
            "text/plain": [
              "{'brand': 'BMW',\n",
              " 'model': 'M8',\n",
              " 'year': 1964,\n",
              " 'transmission': 'Manual',\n",
              " 'other_attributes': {'color': 'red', 'price': 20000}}"
            ]
          },
          "metadata": {},
          "execution_count": 102
        }
      ]
    },
    {
      "cell_type": "code",
      "source": [
        "dict1.items()"
      ],
      "metadata": {
        "colab": {
          "base_uri": "https://localhost:8080/"
        },
        "id": "EzjDZaLJE8i6",
        "outputId": "8569d7ba-4afe-4593-af29-742741f5e32e"
      },
      "execution_count": 104,
      "outputs": [
        {
          "output_type": "execute_result",
          "data": {
            "text/plain": [
              "dict_items([('brand', 'BMW'), ('model', 'M8'), ('year', 1964), ('transmission', 'Manual'), ('other_attributes', {'color': 'red', 'price': 20000})])"
            ]
          },
          "metadata": {},
          "execution_count": 104
        }
      ]
    },
    {
      "cell_type": "code",
      "source": [
        "dict1.keys()"
      ],
      "metadata": {
        "colab": {
          "base_uri": "https://localhost:8080/"
        },
        "id": "ARSmrdmyFMPw",
        "outputId": "b09f3e19-03f8-42c2-e227-b695ae5529e3"
      },
      "execution_count": 105,
      "outputs": [
        {
          "output_type": "execute_result",
          "data": {
            "text/plain": [
              "dict_keys(['brand', 'model', 'year', 'transmission', 'other_attributes'])"
            ]
          },
          "metadata": {},
          "execution_count": 105
        }
      ]
    },
    {
      "cell_type": "code",
      "source": [
        "dict1.values()"
      ],
      "metadata": {
        "colab": {
          "base_uri": "https://localhost:8080/"
        },
        "id": "pwkqGvDAFQDz",
        "outputId": "71c8c113-e32e-4e17-9600-423132b91fc7"
      },
      "execution_count": 106,
      "outputs": [
        {
          "output_type": "execute_result",
          "data": {
            "text/plain": [
              "dict_values(['BMW', 'M8', 1964, 'Manual', {'color': 'red', 'price': 20000}])"
            ]
          },
          "metadata": {},
          "execution_count": 106
        }
      ]
    },
    {
      "cell_type": "markdown",
      "source": [
        "## Python Notes – Tuples\n",
        "\n",
        "### What is a Tuple?\n",
        "\n",
        "* Tuples are ordered, immutable sequences of elements.\n",
        "* Enclosed in **round brackets `()`**\n",
        "* Allow duplicate values\n",
        "* Can store multiple data types (e.g., int, str, list, dict)\n",
        "\n",
        "* Example:\n",
        "  * `x = (1, \"apple\", [10, 20], {\"brand\": \"Nike\"})`\n",
        "  * `type(x)` → `<class 'tuple'>`\n",
        "\n",
        "### Tuple Indexing & Slicing\n",
        "\n",
        "* You can use indexing and slicing like lists:\n",
        "  * `x[0]` → returns first element\n",
        "\n",
        "### Tuple Immutability\n",
        "\n",
        "* Cannot change values once assigned:\n",
        "  * `x[0] = 2` → Error: `'tuple' object does not support item assignment`\n",
        "\n",
        "### Tuple Methods\n",
        "\n",
        "* `.count(value)` – Counts number of times value appears\n",
        "  * `x = (1, 1, 1, 2, 3)`\n",
        "  * `x.count(1)` → `3`\n",
        "* `.index(value)` – Returns index of first occurrence\n",
        "  * `x.index(3)` → `4`"
      ],
      "metadata": {
        "id": "dNMFkQq6Fyax"
      }
    },
    {
      "cell_type": "code",
      "source": [
        " x = (1,2,3,4,4)"
      ],
      "metadata": {
        "id": "0--TPslEFzCp"
      },
      "execution_count": 107,
      "outputs": []
    },
    {
      "cell_type": "code",
      "source": [
        "x"
      ],
      "metadata": {
        "colab": {
          "base_uri": "https://localhost:8080/"
        },
        "id": "tVqpPJDaHjOc",
        "outputId": "0a3110ee-904c-4919-9e05-96998486ae00"
      },
      "execution_count": 108,
      "outputs": [
        {
          "output_type": "execute_result",
          "data": {
            "text/plain": [
              "(1, 2, 3, 4, 4)"
            ]
          },
          "metadata": {},
          "execution_count": 108
        }
      ]
    },
    {
      "cell_type": "code",
      "source": [
        "type(x)"
      ],
      "metadata": {
        "colab": {
          "base_uri": "https://localhost:8080/"
        },
        "id": "LFz8dq0qHo5L",
        "outputId": "5ed7e52c-e1e2-46a3-da85-d16e5ebf5493"
      },
      "execution_count": 109,
      "outputs": [
        {
          "output_type": "execute_result",
          "data": {
            "text/plain": [
              "tuple"
            ]
          },
          "metadata": {},
          "execution_count": 109
        }
      ]
    },
    {
      "cell_type": "code",
      "source": [
        "x = (1,'John', [1,2,3,4], {'key1','value1'})"
      ],
      "metadata": {
        "id": "Q8AVqPXzHtlP"
      },
      "execution_count": 110,
      "outputs": []
    },
    {
      "cell_type": "code",
      "source": [
        "x"
      ],
      "metadata": {
        "colab": {
          "base_uri": "https://localhost:8080/"
        },
        "id": "b6PDTJ83IDm7",
        "outputId": "45ed017a-420b-4ce9-a1dc-ebda932f775e"
      },
      "execution_count": 111,
      "outputs": [
        {
          "output_type": "execute_result",
          "data": {
            "text/plain": [
              "(1, 'John', [1, 2, 3, 4], {'key1', 'value1'})"
            ]
          },
          "metadata": {},
          "execution_count": 111
        }
      ]
    },
    {
      "cell_type": "code",
      "source": [
        "type(x)"
      ],
      "metadata": {
        "colab": {
          "base_uri": "https://localhost:8080/"
        },
        "id": "AGeLXfEsIElQ",
        "outputId": "0e30847a-f97e-41d1-914c-3cd0b41ded5a"
      },
      "execution_count": 112,
      "outputs": [
        {
          "output_type": "execute_result",
          "data": {
            "text/plain": [
              "tuple"
            ]
          },
          "metadata": {},
          "execution_count": 112
        }
      ]
    },
    {
      "cell_type": "code",
      "source": [
        "x[2]"
      ],
      "metadata": {
        "colab": {
          "base_uri": "https://localhost:8080/"
        },
        "id": "boJkDlSMIGYt",
        "outputId": "1ee370c5-19ec-4565-ad2f-f0bbdf3c3b77"
      },
      "execution_count": 113,
      "outputs": [
        {
          "output_type": "execute_result",
          "data": {
            "text/plain": [
              "[1, 2, 3, 4]"
            ]
          },
          "metadata": {},
          "execution_count": 113
        }
      ]
    },
    {
      "cell_type": "code",
      "source": [
        "x[0] = 2"
      ],
      "metadata": {
        "colab": {
          "base_uri": "https://localhost:8080/",
          "height": 144
        },
        "id": "enq_svaSILtp",
        "outputId": "b218e732-a90b-4af5-f01d-4ab5a0c2d66a"
      },
      "execution_count": 114,
      "outputs": [
        {
          "output_type": "error",
          "ename": "TypeError",
          "evalue": "'tuple' object does not support item assignment",
          "traceback": [
            "\u001b[0;31m---------------------------------------------------------------------------\u001b[0m",
            "\u001b[0;31mTypeError\u001b[0m                                 Traceback (most recent call last)",
            "\u001b[0;32m/tmp/ipython-input-114-3967680939.py\u001b[0m in \u001b[0;36m<cell line: 0>\u001b[0;34m()\u001b[0m\n\u001b[0;32m----> 1\u001b[0;31m \u001b[0mx\u001b[0m\u001b[0;34m[\u001b[0m\u001b[0;36m0\u001b[0m\u001b[0;34m]\u001b[0m \u001b[0;34m=\u001b[0m \u001b[0;36m2\u001b[0m\u001b[0;34m\u001b[0m\u001b[0;34m\u001b[0m\u001b[0m\n\u001b[0m",
            "\u001b[0;31mTypeError\u001b[0m: 'tuple' object does not support item assignment"
          ]
        }
      ]
    },
    {
      "cell_type": "code",
      "source": [
        "y = (1,2,1,3,2,1,4,5,4,6)"
      ],
      "metadata": {
        "id": "bjY41pYXIPnZ"
      },
      "execution_count": 115,
      "outputs": []
    },
    {
      "cell_type": "code",
      "source": [
        "y"
      ],
      "metadata": {
        "colab": {
          "base_uri": "https://localhost:8080/"
        },
        "id": "GbKxozAiIZJH",
        "outputId": "6d9fa498-66e8-4d07-dfd7-45bdffc211ed"
      },
      "execution_count": 116,
      "outputs": [
        {
          "output_type": "execute_result",
          "data": {
            "text/plain": [
              "(1, 2, 1, 3, 2, 1, 4, 5, 4, 6)"
            ]
          },
          "metadata": {},
          "execution_count": 116
        }
      ]
    },
    {
      "cell_type": "code",
      "source": [
        "y.count(1)"
      ],
      "metadata": {
        "colab": {
          "base_uri": "https://localhost:8080/"
        },
        "id": "e6pzwfu6IaMf",
        "outputId": "3a4e0f4c-27b8-4922-9190-b0a3d8a22365"
      },
      "execution_count": 117,
      "outputs": [
        {
          "output_type": "execute_result",
          "data": {
            "text/plain": [
              "3"
            ]
          },
          "metadata": {},
          "execution_count": 117
        }
      ]
    },
    {
      "cell_type": "code",
      "source": [
        "y.index(1)"
      ],
      "metadata": {
        "colab": {
          "base_uri": "https://localhost:8080/"
        },
        "id": "jz7_sYyBIfKy",
        "outputId": "585b63d7-8b12-4716-c3ff-e10e4657d378"
      },
      "execution_count": 118,
      "outputs": [
        {
          "output_type": "execute_result",
          "data": {
            "text/plain": [
              "0"
            ]
          },
          "metadata": {},
          "execution_count": 118
        }
      ]
    },
    {
      "cell_type": "code",
      "source": [
        "y.index(4)"
      ],
      "metadata": {
        "colab": {
          "base_uri": "https://localhost:8080/"
        },
        "id": "Uybx7dvjIjTm",
        "outputId": "1b8b6d01-ae7b-41e6-a6c4-7016427d496e"
      },
      "execution_count": 119,
      "outputs": [
        {
          "output_type": "execute_result",
          "data": {
            "text/plain": [
              "6"
            ]
          },
          "metadata": {},
          "execution_count": 119
        }
      ]
    },
    {
      "cell_type": "markdown",
      "source": [
        "## Python Notes – Sets\n",
        "\n",
        "### What is a Set?\n",
        "\n",
        "* Sets are **unordered, mutable** collections of **unique elements**\n",
        "* Enclosed in **curly braces `{}`**\n",
        "* Cannot contain duplicates\n",
        "* Do not support indexing or slicing\n",
        "\n",
        "* Example:\n",
        "  * `x = {1, 2, 3}`\n",
        "  * `type(x)` → `<class 'set'>`\n",
        "\n",
        "### Creating a Set\n",
        "\n",
        "* Non-empty: `x = {1, 2, 3}`\n",
        "* Empty: `x = set()`  \n",
        "  * Note: `{}` creates a dictionary, not a set\n",
        "\n",
        "### Set Operations\n",
        "\n",
        "* `.add(value)` – Adds value to set\n",
        "  * `x.add(5)`\n",
        "  * Adding `5` again has no effect\n",
        "\n",
        "* Converting list to set removes duplicates:\n",
        "  * `list1 = [1, 2, 2, 3]`\n",
        "  * `set1 = set(list1)` → `{1, 2, 3}`\n",
        "\n",
        "### Set Methods\n",
        "\n",
        "* `.intersection(other_set)` – Returns common elements\n",
        "  * `x = {1, 2, 3, 4}`\n",
        "  * `y = {3, 4, 5, 6}`\n",
        "  * `x.intersection(y)` → `{3, 4}`\n",
        "\n",
        "* `.pop()` – Removes and returns a random element\n",
        "\n",
        "### Notes\n",
        "\n",
        "* Lists and tuples do not support intersection\n",
        "  * Convert them to sets first: `set(list1).intersection(set(list2))`\n",
        "* Sets are useful for filtering unique values and set-based operations"
      ],
      "metadata": {
        "id": "HX9zZ3DbOcHH"
      }
    },
    {
      "cell_type": "code",
      "source": [
        " p = {1,3,2,4}"
      ],
      "metadata": {
        "id": "MlzGwMplInEu"
      },
      "execution_count": 122,
      "outputs": []
    },
    {
      "cell_type": "code",
      "source": [
        "p"
      ],
      "metadata": {
        "colab": {
          "base_uri": "https://localhost:8080/"
        },
        "id": "eR8Ca_3zKHqj",
        "outputId": "02a276e6-7b19-470b-ae9c-8ca9361e1a1e"
      },
      "execution_count": 123,
      "outputs": [
        {
          "output_type": "execute_result",
          "data": {
            "text/plain": [
              "{1, 2, 3, 4}"
            ]
          },
          "metadata": {},
          "execution_count": 123
        }
      ]
    },
    {
      "cell_type": "code",
      "source": [
        "type(p)"
      ],
      "metadata": {
        "colab": {
          "base_uri": "https://localhost:8080/"
        },
        "id": "SgYz05mHKSJR",
        "outputId": "3224bcf3-2d23-46b5-a4e3-08ddf5877b0d"
      },
      "execution_count": 124,
      "outputs": [
        {
          "output_type": "execute_result",
          "data": {
            "text/plain": [
              "set"
            ]
          },
          "metadata": {},
          "execution_count": 124
        }
      ]
    },
    {
      "cell_type": "code",
      "source": [
        "x=set()"
      ],
      "metadata": {
        "id": "VJZ3_tR7KVyL"
      },
      "execution_count": 125,
      "outputs": []
    },
    {
      "cell_type": "code",
      "source": [
        "type(x)"
      ],
      "metadata": {
        "colab": {
          "base_uri": "https://localhost:8080/"
        },
        "id": "3-DMCKaoKaCN",
        "outputId": "750dec97-4839-456c-e20f-1eea9d6f18e8"
      },
      "execution_count": 126,
      "outputs": [
        {
          "output_type": "execute_result",
          "data": {
            "text/plain": [
              "set"
            ]
          },
          "metadata": {},
          "execution_count": 126
        }
      ]
    },
    {
      "cell_type": "code",
      "source": [
        "x={}"
      ],
      "metadata": {
        "id": "FxqyeG33Kbq4"
      },
      "execution_count": 127,
      "outputs": []
    },
    {
      "cell_type": "code",
      "source": [
        "type(x)"
      ],
      "metadata": {
        "colab": {
          "base_uri": "https://localhost:8080/"
        },
        "id": "WAKpmcj0KgU2",
        "outputId": "b5065a0b-8882-40c4-cf9d-1bae53ed0730"
      },
      "execution_count": 128,
      "outputs": [
        {
          "output_type": "execute_result",
          "data": {
            "text/plain": [
              "dict"
            ]
          },
          "metadata": {},
          "execution_count": 128
        }
      ]
    },
    {
      "cell_type": "code",
      "source": [
        "x = {2,3,'John'}"
      ],
      "metadata": {
        "id": "gwEdxTiwKiEx"
      },
      "execution_count": 129,
      "outputs": []
    },
    {
      "cell_type": "code",
      "source": [
        "x"
      ],
      "metadata": {
        "colab": {
          "base_uri": "https://localhost:8080/"
        },
        "id": "3jjWNZcfKo13",
        "outputId": "c0848b83-1ae1-4a22-f2f4-68cce3ed2a5f"
      },
      "execution_count": 130,
      "outputs": [
        {
          "output_type": "execute_result",
          "data": {
            "text/plain": [
              "{2, 3, 'John'}"
            ]
          },
          "metadata": {},
          "execution_count": 130
        }
      ]
    },
    {
      "cell_type": "code",
      "source": [
        "type(x)"
      ],
      "metadata": {
        "colab": {
          "base_uri": "https://localhost:8080/"
        },
        "id": "W71JPMDPKriQ",
        "outputId": "998042e8-87e9-45d6-9d1f-885e910d2e37"
      },
      "execution_count": 131,
      "outputs": [
        {
          "output_type": "execute_result",
          "data": {
            "text/plain": [
              "set"
            ]
          },
          "metadata": {},
          "execution_count": 131
        }
      ]
    },
    {
      "cell_type": "code",
      "source": [
        "x.add(5)"
      ],
      "metadata": {
        "id": "2NWdGwCAK8gr"
      },
      "execution_count": 132,
      "outputs": []
    },
    {
      "cell_type": "code",
      "source": [
        "x"
      ],
      "metadata": {
        "colab": {
          "base_uri": "https://localhost:8080/"
        },
        "id": "7pDxnmeWK_4_",
        "outputId": "6151115d-d1a6-499a-f667-8d3a04bdb56c"
      },
      "execution_count": 133,
      "outputs": [
        {
          "output_type": "execute_result",
          "data": {
            "text/plain": [
              "{2, 3, 5, 'John'}"
            ]
          },
          "metadata": {},
          "execution_count": 133
        }
      ]
    },
    {
      "cell_type": "code",
      "source": [
        "x.add(5)"
      ],
      "metadata": {
        "id": "Cw0k4DJsLKrv"
      },
      "execution_count": 134,
      "outputs": []
    },
    {
      "cell_type": "code",
      "source": [
        "x"
      ],
      "metadata": {
        "colab": {
          "base_uri": "https://localhost:8080/"
        },
        "id": "XTkvtJeHLRnv",
        "outputId": "13092603-c8a1-4776-d7f3-9c4630f1384a"
      },
      "execution_count": 135,
      "outputs": [
        {
          "output_type": "execute_result",
          "data": {
            "text/plain": [
              "{2, 3, 5, 'John'}"
            ]
          },
          "metadata": {},
          "execution_count": 135
        }
      ]
    },
    {
      "cell_type": "code",
      "source": [
        "y = {1,2,2,3,2,4,5,5,5,5}"
      ],
      "metadata": {
        "id": "svf4cJWjLSVz"
      },
      "execution_count": 136,
      "outputs": []
    },
    {
      "cell_type": "code",
      "source": [
        "y"
      ],
      "metadata": {
        "colab": {
          "base_uri": "https://localhost:8080/"
        },
        "id": "cW1Z35xSMRfG",
        "outputId": "8911333a-0fb7-4d9d-bf19-75faaf860ba4"
      },
      "execution_count": 137,
      "outputs": [
        {
          "output_type": "execute_result",
          "data": {
            "text/plain": [
              "{1, 2, 3, 4, 5}"
            ]
          },
          "metadata": {},
          "execution_count": 137
        }
      ]
    },
    {
      "cell_type": "code",
      "source": [
        "y[1]"
      ],
      "metadata": {
        "colab": {
          "base_uri": "https://localhost:8080/",
          "height": 144
        },
        "id": "K22qhjf5MSg-",
        "outputId": "cf850ac4-7d0b-4cd0-a893-04ede3b2064d"
      },
      "execution_count": 138,
      "outputs": [
        {
          "output_type": "error",
          "ename": "TypeError",
          "evalue": "'set' object is not subscriptable",
          "traceback": [
            "\u001b[0;31m---------------------------------------------------------------------------\u001b[0m",
            "\u001b[0;31mTypeError\u001b[0m                                 Traceback (most recent call last)",
            "\u001b[0;32m/tmp/ipython-input-138-1463351067.py\u001b[0m in \u001b[0;36m<cell line: 0>\u001b[0;34m()\u001b[0m\n\u001b[0;32m----> 1\u001b[0;31m \u001b[0my\u001b[0m\u001b[0;34m[\u001b[0m\u001b[0;36m1\u001b[0m\u001b[0;34m]\u001b[0m\u001b[0;34m\u001b[0m\u001b[0;34m\u001b[0m\u001b[0m\n\u001b[0m",
            "\u001b[0;31mTypeError\u001b[0m: 'set' object is not subscriptable"
          ]
        }
      ]
    },
    {
      "cell_type": "code",
      "source": [
        " list1 = [1,2,3,2]"
      ],
      "metadata": {
        "id": "TLOApXZ8MV1C"
      },
      "execution_count": 139,
      "outputs": []
    },
    {
      "cell_type": "code",
      "source": [
        "set1 = set(list1)"
      ],
      "metadata": {
        "id": "tht956eiMov1"
      },
      "execution_count": 140,
      "outputs": []
    },
    {
      "cell_type": "code",
      "source": [
        "set1"
      ],
      "metadata": {
        "colab": {
          "base_uri": "https://localhost:8080/"
        },
        "id": "OSwI_OziMrrN",
        "outputId": "2a310f0a-dbf5-427e-9e58-e730b3a54cc9"
      },
      "execution_count": 141,
      "outputs": [
        {
          "output_type": "execute_result",
          "data": {
            "text/plain": [
              "{1, 2, 3}"
            ]
          },
          "metadata": {},
          "execution_count": 141
        }
      ]
    },
    {
      "cell_type": "code",
      "source": [
        "x = {1,2,3,4}\n",
        "y = {3,4,5,6}"
      ],
      "metadata": {
        "id": "zAHGui64NWyq"
      },
      "execution_count": 142,
      "outputs": []
    },
    {
      "cell_type": "code",
      "source": [
        "x.intersection(y)"
      ],
      "metadata": {
        "colab": {
          "base_uri": "https://localhost:8080/"
        },
        "id": "A4sAlPOEN4DA",
        "outputId": "c37c7e2c-de0b-4747-9acd-00e75f3e1fd0"
      },
      "execution_count": 143,
      "outputs": [
        {
          "output_type": "execute_result",
          "data": {
            "text/plain": [
              "{3, 4}"
            ]
          },
          "metadata": {},
          "execution_count": 143
        }
      ]
    },
    {
      "cell_type": "markdown",
      "source": [
        "## Python Notes – Booleans and Keywords\n",
        "\n",
        "### Boolean Data Type\n",
        "\n",
        "* Booleans have only **two possible values**: `True` or `False`\n",
        "* Case-sensitive:\n",
        "  * Must be written as `True` and `False`\n",
        "  * `true`, `false`, `TRUE`, etc. → Invalid\n",
        "\n",
        "* Example:\n",
        "  * `5 > 7` → `False` (Boolean result)\n",
        "  * `10 == 10` → `True`\n",
        "\n",
        "* Used mainly in **conditional statements**"
      ],
      "metadata": {
        "id": "dpn9BVh-OobO"
      }
    },
    {
      "cell_type": "code",
      "source": [
        "type(True)"
      ],
      "metadata": {
        "colab": {
          "base_uri": "https://localhost:8080/"
        },
        "id": "WfOJNNUhPAKs",
        "outputId": "48f72d06-3e57-4e6d-a75f-19350d46d8b1"
      },
      "execution_count": 144,
      "outputs": [
        {
          "output_type": "execute_result",
          "data": {
            "text/plain": [
              "bool"
            ]
          },
          "metadata": {},
          "execution_count": 144
        }
      ]
    },
    {
      "cell_type": "code",
      "source": [
        "type(False)"
      ],
      "metadata": {
        "colab": {
          "base_uri": "https://localhost:8080/"
        },
        "id": "HoISSK7-PCvX",
        "outputId": "2497869c-7f6d-436f-fd9b-2ec799f76c30"
      },
      "execution_count": 146,
      "outputs": [
        {
          "output_type": "execute_result",
          "data": {
            "text/plain": [
              "bool"
            ]
          },
          "metadata": {},
          "execution_count": 146
        }
      ]
    },
    {
      "cell_type": "code",
      "source": [
        "type(true)"
      ],
      "metadata": {
        "colab": {
          "base_uri": "https://localhost:8080/",
          "height": 144
        },
        "id": "znfBOCzSPFg1",
        "outputId": "bb54ddfb-abaf-4eeb-e7b5-5f604a80a145"
      },
      "execution_count": 148,
      "outputs": [
        {
          "output_type": "error",
          "ename": "NameError",
          "evalue": "name 'true' is not defined",
          "traceback": [
            "\u001b[0;31m---------------------------------------------------------------------------\u001b[0m",
            "\u001b[0;31mNameError\u001b[0m                                 Traceback (most recent call last)",
            "\u001b[0;32m/tmp/ipython-input-148-1822790664.py\u001b[0m in \u001b[0;36m<cell line: 0>\u001b[0;34m()\u001b[0m\n\u001b[0;32m----> 1\u001b[0;31m \u001b[0mtype\u001b[0m\u001b[0;34m(\u001b[0m\u001b[0mtrue\u001b[0m\u001b[0;34m)\u001b[0m\u001b[0;34m\u001b[0m\u001b[0;34m\u001b[0m\u001b[0m\n\u001b[0m",
            "\u001b[0;31mNameError\u001b[0m: name 'true' is not defined"
          ]
        }
      ]
    },
    {
      "cell_type": "code",
      "source": [
        "7>5"
      ],
      "metadata": {
        "colab": {
          "base_uri": "https://localhost:8080/"
        },
        "id": "NgX2hbo4PNp2",
        "outputId": "2623ec62-9d60-4624-e0e4-93adc6c622e6"
      },
      "execution_count": 149,
      "outputs": [
        {
          "output_type": "execute_result",
          "data": {
            "text/plain": [
              "True"
            ]
          },
          "metadata": {},
          "execution_count": 149
        }
      ]
    },
    {
      "cell_type": "markdown",
      "source": [
        "## Python Keywords\n",
        "\n",
        "* **Keywords** are reserved words with special meaning in Python\n",
        "  * Examples: `if`, `for`, `while`, `return`, `class`, `def`\n",
        "* View all keywords:\n",
        "  * `help('keywords')`\n",
        "\n",
        "* You **cannot** use keywords as variable names\n",
        "  * Example: `if = 5` → Invalid\n",
        "\n",
        "---\n",
        "\n",
        "## Class Names Should Not Be Used as Variables\n",
        "\n",
        "* Avoid using names like `str`, `list`, `dict`, `tuple`, `set` as variable names\n",
        "  * These are class types in Python\n",
        "\n",
        "* Example:\n",
        "  * Do not write: `list = [1, 2, 3, 4]`\n",
        "  * Instead write: `list_1 = [1, 2, 3, 4]`"
      ],
      "metadata": {
        "id": "TqbTlEFXPl7K"
      }
    }
  ]
}